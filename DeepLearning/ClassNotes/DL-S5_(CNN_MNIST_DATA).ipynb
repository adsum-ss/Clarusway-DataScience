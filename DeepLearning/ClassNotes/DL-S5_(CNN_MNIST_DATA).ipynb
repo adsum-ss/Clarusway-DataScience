{
 "cells": [
  {
   "cell_type": "markdown",
   "metadata": {
    "id": "XhU2dK-SORVC"
   },
   "source": [
    "## **CNN with MNIST Data**"
   ]
  },
  {
   "cell_type": "code",
   "execution_count": 1,
   "metadata": {
    "id": "pyjqyftAzSfT"
   },
   "outputs": [],
   "source": [
    "import pandas as pd\n",
    "import seaborn as sns\n",
    "import tensorflow as tf                       \n",
    "import numpy as np                           \n",
    "import matplotlib.pyplot as plt               \n",
    "%matplotlib inline"
   ]
  },
  {
   "cell_type": "code",
   "execution_count": 2,
   "metadata": {
    "pycharm": {
     "name": "#%%\n"
    }
   },
   "outputs": [
    {
     "name": "stdout",
     "output_type": "stream",
     "text": [
      "2.8.0\n"
     ]
    }
   ],
   "source": [
    "print(tf.__version__)"
   ]
  },
  {
   "cell_type": "code",
   "execution_count": 3,
   "metadata": {
    "pycharm": {
     "name": "#%%\n"
    }
   },
   "outputs": [
    {
     "name": "stdout",
     "output_type": "stream",
     "text": [
      "Num GPUs Available:  0\n"
     ]
    }
   ],
   "source": [
    "print(\"Num GPUs Available: \", len(tf.config.list_physical_devices('GPU')))"
   ]
  },
  {
   "cell_type": "code",
   "execution_count": 4,
   "metadata": {
    "pycharm": {
     "name": "#%%\n"
    }
   },
   "outputs": [],
   "source": [
    "# tf.config.list_physical_devices('GPU')"
   ]
  },
  {
   "cell_type": "code",
   "execution_count": 5,
   "metadata": {
    "pycharm": {
     "name": "#%%\n"
    }
   },
   "outputs": [],
   "source": [
    "# Release GPU memory to prevent memory-leaks.\n",
    "\n",
    "# from numba import cuda\n",
    "# device = cuda.get_current_device()\n",
    "# device.reset()"
   ]
  },
  {
   "cell_type": "code",
   "execution_count": 6,
   "metadata": {
    "pycharm": {
     "name": "#%%\n"
    }
   },
   "outputs": [],
   "source": [
    "#!nvidia-smi"
   ]
  },
  {
   "cell_type": "code",
   "execution_count": 7,
   "metadata": {
    "id": "xmHOOUQUzYbu"
   },
   "outputs": [],
   "source": [
    "from tensorflow.keras.datasets.mnist import load_data    # To load the MNIST digit dataset\n",
    "\n",
    "(X_train, y_train) , (X_test, y_test) = load_data()      # Loading data"
   ]
  },
  {
   "cell_type": "code",
   "execution_count": 8,
   "metadata": {
    "colab": {
     "base_uri": "https://localhost:8080/"
    },
    "id": "JeiYe7OuzdN6",
    "outputId": "5bb81996-947d-4cd9-dad1-2b7ea71d922d"
   },
   "outputs": [
    {
     "name": "stdout",
     "output_type": "stream",
     "text": [
      "There are  60000 images in the training dataset\n",
      "There are  10000 images in the test dataset\n"
     ]
    }
   ],
   "source": [
    "print(\"There are \", len(X_train), \"images in the training dataset\")     \n",
    "print(\"There are \", len(X_test), \"images in the test dataset\")   "
   ]
  },
  {
   "cell_type": "code",
   "execution_count": 9,
   "metadata": {},
   "outputs": [],
   "source": [
    "# Her biri 28*28 ebatlarında toplam 70000 image yüklendi (9'a kadar el yazısı ile yazılmış rakamlar)"
   ]
  },
  {
   "cell_type": "code",
   "execution_count": 10,
   "metadata": {
    "colab": {
     "base_uri": "https://localhost:8080/"
    },
    "id": "9FNlcgiTzj1X",
    "outputId": "dfe6af36-c0e9-4d19-f004-9778f4e76aeb"
   },
   "outputs": [
    {
     "data": {
      "text/plain": [
       "(28, 28)"
      ]
     },
     "execution_count": 10,
     "metadata": {},
     "output_type": "execute_result"
    }
   ],
   "source": [
    "# Checking the shape of one image\n",
    "X_train[9].shape"
   ]
  },
  {
   "cell_type": "code",
   "execution_count": 11,
   "metadata": {
    "colab": {
     "base_uri": "https://localhost:8080/"
    },
    "id": "fo95HaLhzn9h",
    "outputId": "6cfe6b54-7886-4f1b-eff6-91d4e985cc3d"
   },
   "outputs": [
    {
     "data": {
      "text/plain": [
       "array([[  0,   0,   0,   0,   0,   0,   0,   0,   0,   0,   0,   0,   0,\n",
       "          0,   0,   0,   0,   0,   0,   0,   0,   0,   0,   0,   0,   0,\n",
       "          0,   0],\n",
       "       [  0,   0,   0,   0,   0,   0,   0,   0,   0,   0,   0,   0,   0,\n",
       "          0,   0,   0,   0,   0,   0,   0,   0,   0,   0,   0,   0,   0,\n",
       "          0,   0],\n",
       "       [  0,   0,   0,   0,   0,   0,   0,   0,   0,   0,   0,   0,   0,\n",
       "          0,   0,   0,   0,   0,   0,   0,   0,   0,   0,   0,   0,   0,\n",
       "          0,   0],\n",
       "       [  0,   0,   0,   0,   0,   0,   0,   0,   0,   0,   0,   0,   0,\n",
       "          0,   0,   0,   0,   0,   0,   0,   0,   0,   0,   0,   0,   0,\n",
       "          0,   0],\n",
       "       [  0,   0,   0,   0,   0,   0,   0,   0,   0,   0,   0,   0,   0,\n",
       "          0,   0,   0,   0,   0,   0,   0,   0,   0, 189, 190,   0,   0,\n",
       "          0,   0],\n",
       "       [  0,   0,   0,   0,   0,   0,   0,   0,   0,   0,   0,   0,   0,\n",
       "          0,   0,   0,   0,   0,   0,   0,   0, 143, 247, 153,   0,   0,\n",
       "          0,   0],\n",
       "       [  0,   0,   0,   0,   0,   0,   0,   0,   0,   0,   0,   0,   0,\n",
       "          0,   0,   0,   0,   0,   0,   0, 136, 247, 242,  86,   0,   0,\n",
       "          0,   0],\n",
       "       [  0,   0,   0,   0,   0,   0,   0,   0,   0,   0,   0,   0,   0,\n",
       "          0,   0,   0,   0,   0,   0,   0, 192, 252, 187,   0,   0,   0,\n",
       "          0,   0],\n",
       "       [  0,   0,   0,   0,   0,   0,   0,   0,   0,   0,   0,   0,  62,\n",
       "        185,  18,   0,   0,   0,   0,  89, 236, 217,  47,   0,   0,   0,\n",
       "          0,   0],\n",
       "       [  0,   0,   0,   0,   0,   0,   0,   0,   0,   0,   0,   0, 216,\n",
       "        253,  60,   0,   0,   0,   0, 212, 255,  81,   0,   0,   0,   0,\n",
       "          0,   0],\n",
       "       [  0,   0,   0,   0,   0,   0,   0,   0,   0,   0,   0,   0, 206,\n",
       "        252,  68,   0,   0,   0,  48, 242, 253,  89,   0,   0,   0,   0,\n",
       "          0,   0],\n",
       "       [  0,   0,   0,   0,   0,   0,   0,   0,   0,   0,   0, 131, 251,\n",
       "        212,  21,   0,   0,  11, 167, 252, 197,   5,   0,   0,   0,   0,\n",
       "          0,   0],\n",
       "       [  0,   0,   0,   0,   0,   0,   0,   0,   0,   0,  29, 232, 247,\n",
       "         63,   0,   0,   0, 153, 252, 226,   0,   0,   0,   0,   0,   0,\n",
       "          0,   0],\n",
       "       [  0,   0,   0,   0,   0,   0,   0,   0,   0,  45, 219, 252, 143,\n",
       "          0,   0,   0, 116, 249, 252, 103,   0,   0,   0,   0,   0,   0,\n",
       "          0,   0],\n",
       "       [  0,   0,   0,   0,   0,   0,   0,   4,  96, 253, 255, 253, 200,\n",
       "        122,   7,  25, 201, 250, 158,   0,   0,   0,   0,   0,   0,   0,\n",
       "          0,   0],\n",
       "       [  0,   0,   0,   0,   0,   0,   0,  92, 252, 252, 253, 217, 252,\n",
       "        252, 200, 227, 252, 231,   0,   0,   0,   0,   0,   0,   0,   0,\n",
       "          0,   0],\n",
       "       [  0,   0,   0,   0,   0,   0,  87, 251, 247, 231,  65,  48, 189,\n",
       "        252, 252, 253, 252, 251, 227,  35,   0,   0,   0,   0,   0,   0,\n",
       "          0,   0],\n",
       "       [  0,   0,   0,   0,   0,   0, 190, 221,  98,   0,   0,   0,  42,\n",
       "        196, 252, 253, 252, 252, 162,   0,   0,   0,   0,   0,   0,   0,\n",
       "          0,   0],\n",
       "       [  0,   0,   0,   0,   0,   0, 111,  29,   0,   0,   0,   0,  62,\n",
       "        239, 252,  86,  42,  42,  14,   0,   0,   0,   0,   0,   0,   0,\n",
       "          0,   0],\n",
       "       [  0,   0,   0,   0,   0,   0,   0,   0,   0,   0,   0,  15, 148,\n",
       "        253, 218,   0,   0,   0,   0,   0,   0,   0,   0,   0,   0,   0,\n",
       "          0,   0],\n",
       "       [  0,   0,   0,   0,   0,   0,   0,   0,   0,   0,   0, 121, 252,\n",
       "        231,  28,   0,   0,   0,   0,   0,   0,   0,   0,   0,   0,   0,\n",
       "          0,   0],\n",
       "       [  0,   0,   0,   0,   0,   0,   0,   0,   0,   0,  31, 221, 251,\n",
       "        129,   0,   0,   0,   0,   0,   0,   0,   0,   0,   0,   0,   0,\n",
       "          0,   0],\n",
       "       [  0,   0,   0,   0,   0,   0,   0,   0,   0,   0, 218, 252, 160,\n",
       "          0,   0,   0,   0,   0,   0,   0,   0,   0,   0,   0,   0,   0,\n",
       "          0,   0],\n",
       "       [  0,   0,   0,   0,   0,   0,   0,   0,   0,   0, 122, 252,  82,\n",
       "          0,   0,   0,   0,   0,   0,   0,   0,   0,   0,   0,   0,   0,\n",
       "          0,   0],\n",
       "       [  0,   0,   0,   0,   0,   0,   0,   0,   0,   0,   0,   0,   0,\n",
       "          0,   0,   0,   0,   0,   0,   0,   0,   0,   0,   0,   0,   0,\n",
       "          0,   0],\n",
       "       [  0,   0,   0,   0,   0,   0,   0,   0,   0,   0,   0,   0,   0,\n",
       "          0,   0,   0,   0,   0,   0,   0,   0,   0,   0,   0,   0,   0,\n",
       "          0,   0],\n",
       "       [  0,   0,   0,   0,   0,   0,   0,   0,   0,   0,   0,   0,   0,\n",
       "          0,   0,   0,   0,   0,   0,   0,   0,   0,   0,   0,   0,   0,\n",
       "          0,   0],\n",
       "       [  0,   0,   0,   0,   0,   0,   0,   0,   0,   0,   0,   0,   0,\n",
       "          0,   0,   0,   0,   0,   0,   0,   0,   0,   0,   0,   0,   0,\n",
       "          0,   0]], dtype=uint8)"
      ]
     },
     "execution_count": 11,
     "metadata": {},
     "output_type": "execute_result"
    }
   ],
   "source": [
    "X_train[9]"
   ]
  },
  {
   "cell_type": "code",
   "execution_count": 13,
   "metadata": {
    "colab": {
     "base_uri": "https://localhost:8080/",
     "height": 282
    },
    "id": "nAlrzyEHzr68",
    "outputId": "d722219c-d558-4698-dfc9-5a490977c35b"
   },
   "outputs": [
    {
     "data": {
      "text/plain": [
       "<matplotlib.image.AxesImage at 0x1e4075deb20>"
      ]
     },
     "execution_count": 13,
     "metadata": {},
     "output_type": "execute_result"
    },
    {
     "data": {
      "image/png": "[encoded data removed]",
      "text/plain": [
       "<Figure size 432x288 with 1 Axes>"
      ]
     },
     "metadata": {
      "needs_background": "light"
     },
     "output_type": "display_data"
    }
   ],
   "source": [
    "plt.imshow(X_train[9])\n",
    "# plt.matshow(X_train[9])"
   ]
  },
  {
   "cell_type": "code",
   "execution_count": 14,
   "metadata": {
    "colab": {
     "base_uri": "https://localhost:8080/"
    },
    "id": "zP9FMA-D0Dho",
    "outputId": "538c51cb-82a2-4984-d30a-b17b89b9a1fe"
   },
   "outputs": [
    {
     "data": {
      "text/plain": [
       "array([5, 0, 4, ..., 5, 6, 8], dtype=uint8)"
      ]
     },
     "execution_count": 14,
     "metadata": {},
     "output_type": "execute_result"
    }
   ],
   "source": [
    "y_train  # ÖNEMLİ : y değerleri scalar değer"
   ]
  },
  {
   "cell_type": "code",
   "execution_count": 15,
   "metadata": {},
   "outputs": [
    {
     "data": {
      "text/plain": [
       "array([[   0, 5923],\n",
       "       [   1, 6742],\n",
       "       [   2, 5958],\n",
       "       [   3, 6131],\n",
       "       [   4, 5842],\n",
       "       [   5, 5421],\n",
       "       [   6, 5918],\n",
       "       [   7, 6265],\n",
       "       [   8, 5851],\n",
       "       [   9, 5949]], dtype=int64)"
      ]
     },
     "execution_count": 15,
     "metadata": {},
     "output_type": "execute_result"
    }
   ],
   "source": [
    "np.array(np.unique(y_train, return_counts=True)).T"
   ]
  },
  {
   "cell_type": "code",
   "execution_count": 16,
   "metadata": {},
   "outputs": [
    {
     "data": {
      "text/plain": [
       "60000"
      ]
     },
     "execution_count": 16,
     "metadata": {},
     "output_type": "execute_result"
    }
   ],
   "source": [
    "len(y_train)"
   ]
  },
  {
   "cell_type": "code",
   "execution_count": 17,
   "metadata": {},
   "outputs": [
    {
     "data": {
      "text/plain": [
       "4"
      ]
     },
     "execution_count": 17,
     "metadata": {},
     "output_type": "execute_result"
    }
   ],
   "source": [
    "y_train[9]"
   ]
  },
  {
   "cell_type": "code",
   "execution_count": 18,
   "metadata": {
    "colab": {
     "base_uri": "https://localhost:8080/",
     "height": 314
    },
    "id": "IPKvujQwz00v",
    "outputId": "8db1b972-98e8-4da1-f055-df4378b58ba9"
   },
   "outputs": [
    {
     "data": {
      "image/png": "[encoded data removed]",
      "text/plain": [
       "<Figure size 864x360 with 10 Axes>"
      ]
     },
     "metadata": {
      "needs_background": "light"
     },
     "output_type": "display_data"
    }
   ],
   "source": [
    "num_rows, num_cols = 2, 5\n",
    "f, ax = plt.subplots(2, 5, figsize=(12,5),\n",
    "                     gridspec_kw={'wspace':0.03, 'hspace':0.02}, \n",
    "                     squeeze=True)\n",
    "\n",
    "for r in range(num_rows):\n",
    "    for c in range(num_cols):\n",
    "      \n",
    "        image_index = r * 5 + c   # incelemek için datasetinden rastgele image seçiyoruz \n",
    "        ax[r,c].axis(\"off\") \n",
    "        ax[r,c].imshow(X_train[image_index], cmap='gray')\n",
    "        ax[r,c].set_title('No. %d' % y_train[image_index])\n",
    "plt.show()\n",
    "plt.close()"
   ]
  },
  {
   "cell_type": "markdown",
   "metadata": {
    "id": "-_pXVdp-y8Mo"
   },
   "source": [
    "## Data Preprocessing"
   ]
  },
  {
   "cell_type": "code",
   "execution_count": 19,
   "metadata": {
    "colab": {
     "base_uri": "https://localhost:8080/"
    },
    "id": "_XspA3CDLpm6",
    "outputId": "912c6fd2-54b8-4c0b-b174-0626b2ec2eb8"
   },
   "outputs": [
    {
     "data": {
      "text/plain": [
       "0"
      ]
     },
     "execution_count": 19,
     "metadata": {},
     "output_type": "execute_result"
    }
   ],
   "source": [
    "X_train[9].min()"
   ]
  },
  {
   "cell_type": "code",
   "execution_count": 20,
   "metadata": {
    "colab": {
     "base_uri": "https://localhost:8080/"
    },
    "id": "XJefIibxLqf2",
    "outputId": "1e80007e-86b8-4151-e0d5-21bdd9ce5d7a"
   },
   "outputs": [
    {
     "data": {
      "text/plain": [
       "255"
      ]
     },
     "execution_count": 20,
     "metadata": {},
     "output_type": "execute_result"
    }
   ],
   "source": [
    "X_train[9].max()"
   ]
  },
  {
   "cell_type": "code",
   "execution_count": 21,
   "metadata": {
    "id": "m_eSMmhJFqRA"
   },
   "outputs": [],
   "source": [
    "X_train = X_train.astype('float32')\n",
    "X_test = X_test.astype('float32')\n",
    "X_train /= 255  # normalization (scale) işlemi uyguladık\n",
    "X_test /= 255   # bütün değerler 0-255 arası olduğundan minmax scale uygulamış olduk"
   ]
  },
  {
   "cell_type": "code",
   "execution_count": 22,
   "metadata": {
    "colab": {
     "base_uri": "https://localhost:8080/"
    },
    "id": "-NqymetKL1Lb",
    "outputId": "25584cff-c2ae-4a6e-a3d1-8371f6a73b87"
   },
   "outputs": [
    {
     "data": {
      "text/plain": [
       "0.0"
      ]
     },
     "execution_count": 22,
     "metadata": {},
     "output_type": "execute_result"
    }
   ],
   "source": [
    "X_train[9].min()"
   ]
  },
  {
   "cell_type": "code",
   "execution_count": 23,
   "metadata": {
    "colab": {
     "base_uri": "https://localhost:8080/"
    },
    "id": "SOU_kW9nL1OD",
    "outputId": "be60382c-4843-48f5-eafb-066163accb3e"
   },
   "outputs": [
    {
     "data": {
      "text/plain": [
       "1.0"
      ]
     },
     "execution_count": 23,
     "metadata": {},
     "output_type": "execute_result"
    }
   ],
   "source": [
    "X_train[9].max()"
   ]
  },
  {
   "cell_type": "code",
   "execution_count": 24,
   "metadata": {
    "colab": {
     "base_uri": "https://localhost:8080/",
     "height": 282
    },
    "id": "Jrp0SbiHL7aA",
    "outputId": "403bf3cd-b431-44bc-a332-2e4df2118027"
   },
   "outputs": [
    {
     "data": {
      "text/plain": [
       "<matplotlib.image.AxesImage at 0x1e406e48910>"
      ]
     },
     "execution_count": 24,
     "metadata": {},
     "output_type": "execute_result"
    },
    {
     "data": {
      "image/png": "[encoded data removed]",
      "text/plain": [
       "<Figure size 432x288 with 1 Axes>"
      ]
     },
     "metadata": {
      "needs_background": "light"
     },
     "output_type": "display_data"
    }
   ],
   "source": [
    "plt.imshow(X_train[9])\n",
    "# normalize (scale) ettikten sonra da aynı resmi alabiliyoruz, yani sayı değerlerinin değişmesine rağmen matplotlib \n",
    "# normalization işlemi yapıldığını anlayabiliyor"
   ]
  },
  {
   "cell_type": "code",
   "execution_count": 25,
   "metadata": {
    "id": "uk7qzToCFp-s"
   },
   "outputs": [],
   "source": [
    "X_train = X_train.reshape(X_train.shape[0], 28, 28, 1) \n",
    "X_test = X_test.reshape(X_test.shape[0], 28, 28, 1)\n",
    "\n",
    "# resmi üç boyutlu olarak ifade ettik, modele bu şekilde input etmemiz gerekiyor\n",
    "# y değerleri scalar değer olduğundan şu an için onda bir değişiklik yapmadık"
   ]
  },
  {
   "cell_type": "code",
   "execution_count": 26,
   "metadata": {
    "colab": {
     "base_uri": "https://localhost:8080/"
    },
    "id": "5nLub1tMFqOc",
    "outputId": "f67a656f-c61d-490c-b7bd-c8f2a964d142"
   },
   "outputs": [
    {
     "data": {
      "text/plain": [
       "((60000, 28, 28, 1), (10000, 28, 28, 1))"
      ]
     },
     "execution_count": 26,
     "metadata": {},
     "output_type": "execute_result"
    }
   ],
   "source": [
    "X_train.shape, X_test.shape"
   ]
  },
  {
   "cell_type": "code",
   "execution_count": 27,
   "metadata": {
    "colab": {
     "base_uri": "https://localhost:8080/"
    },
    "id": "7r8BUJwuL-a6",
    "outputId": "725bd26c-dac3-4c76-8722-3caf5a50d60b"
   },
   "outputs": [
    {
     "data": {
      "text/plain": [
       "array([5, 0, 4, ..., 5, 6, 8], dtype=uint8)"
      ]
     },
     "execution_count": 27,
     "metadata": {},
     "output_type": "execute_result"
    }
   ],
   "source": [
    "y_train"
   ]
  },
  {
   "cell_type": "code",
   "execution_count": 28,
   "metadata": {
    "id": "z3CBRoZ1GWHh"
   },
   "outputs": [],
   "source": [
    "from tensorflow.keras.utils import to_categorical"
   ]
  },
  {
   "cell_type": "code",
   "execution_count": 29,
   "metadata": {},
   "outputs": [],
   "source": [
    "# y değerleri scalar büyüklük olduğundan kategorik değerlere çevireceğiz\n",
    "# datada rakamların tamamı mevcut (10 tane)"
   ]
  },
  {
   "cell_type": "code",
   "execution_count": 30,
   "metadata": {
    "colab": {
     "base_uri": "https://localhost:8080/"
    },
    "id": "rwav3vH5FqT9",
    "outputId": "c964f06b-3346-4b27-f1ea-67250df38b57"
   },
   "outputs": [
    {
     "data": {
      "text/plain": [
       "(10000, 10)"
      ]
     },
     "execution_count": 30,
     "metadata": {},
     "output_type": "execute_result"
    }
   ],
   "source": [
    "Y_train = to_categorical(y_train, 10) # 10'u belirtmemiz şart değil ama good practise\n",
    "Y_test = to_categorical(y_test, 10)  \n",
    "Y_test.shape\n",
    "\n",
    "# class sayısını yazmak şart değil ama yazmazsak default olarak \"max(y)+1\" sayısınca belirlenecek;\n",
    "# farklı bir datada class'lar için verile sayılar 0'dan başlayıp sıra ile gitmezse ya da arada atlanan sayı olursa \n",
    "# bu durumda default değerini kullanmak hatalı sonuç vereceğinden ve\n",
    "# notebook'u inceleyen farklı kişilerce anlaşılmasını kolaylaştırmak için class sayısını belirtmekte fayda var"
   ]
  },
  {
   "cell_type": "code",
   "execution_count": 31,
   "metadata": {},
   "outputs": [
    {
     "data": {
      "text/plain": [
       "array([[0., 0., 0., ..., 0., 0., 0.],\n",
       "       [1., 0., 0., ..., 0., 0., 0.],\n",
       "       [0., 0., 0., ..., 0., 0., 0.],\n",
       "       ...,\n",
       "       [0., 0., 0., ..., 0., 0., 0.],\n",
       "       [0., 0., 0., ..., 0., 0., 0.],\n",
       "       [0., 0., 0., ..., 0., 1., 0.]], dtype=float32)"
      ]
     },
     "execution_count": 31,
     "metadata": {},
     "output_type": "execute_result"
    }
   ],
   "source": [
    "Y_train"
   ]
  },
  {
   "cell_type": "code",
   "execution_count": 32,
   "metadata": {
    "id": "EAvdD1-IHYaV"
   },
   "outputs": [],
   "source": [
    "from tensorflow.keras.models import Sequential\n",
    "from tensorflow.keras.layers import Dense, Conv2D, MaxPool2D, Flatten"
   ]
  },
  {
   "cell_type": "code",
   "execution_count": 33,
   "metadata": {
    "id": "1XKYFc5cGD92"
   },
   "outputs": [],
   "source": [
    "model = Sequential()\n",
    "\n",
    "model.add(Conv2D(filters=32, kernel_size=(3,3),input_shape=(28, 28, 1), activation='relu'))\n",
    "            # input_shape  ===> modeli fit etmeden summary almamızı sağlıyor\n",
    "\n",
    "            # default strides:(1,1) and default padding:'valid' (\"valid\" means no padding)\n",
    "            # input_shape burada belirlenirse summary ile eğitim başlamadan da özet bilgileri alabiliriz\n",
    "\n",
    "model.add(MaxPool2D(pool_size=(2, 2)))\n",
    "\n",
    "model.add(Flatten())\n",
    "\n",
    "model.add(Dense(128, activation='relu'))\n",
    "\n",
    "model.add(Dense(10, activation='softmax'))\n",
    "\n",
    "model.compile(loss='categorical_crossentropy',\n",
    "              optimizer='adam',\n",
    "              metrics=['accuracy'])"
   ]
  },
  {
   "cell_type": "markdown",
   "metadata": {
    "id": "d4GuNNrC1ihO"
   },
   "source": [
    "**A sample example showing the conversion of 3D data to 2D**\n",
    "![3Dto2D](https://dphi-courses.s3.ap-south-1.amazonaws.com/Deep+Learning+Bootcamp/3D+to++2D.png)"
   ]
  },
  {
   "cell_type": "code",
   "execution_count": 34,
   "metadata": {
    "colab": {
     "base_uri": "https://localhost:8080/"
    },
    "id": "7dlzbf8cLVu0",
    "outputId": "9818ec5e-9b63-4d51-d41d-3e5237b3b113"
   },
   "outputs": [
    {
     "name": "stdout",
     "output_type": "stream",
     "text": [
      "Model: \"sequential\"\n",
      "_________________________________________________________________\n",
      " Layer (type)                Output Shape              Param #   \n",
      "=================================================================\n",
      " conv2d (Conv2D)             (None, 26, 26, 32)        320       \n",
      "                                                                 \n",
      " max_pooling2d (MaxPooling2D  (None, 13, 13, 32)       0         \n",
      " )                                                               \n",
      "                                                                 \n",
      " flatten (Flatten)           (None, 5408)              0         \n",
      "                                                                 \n",
      " dense (Dense)               (None, 128)               692352    \n",
      "                                                                 \n",
      " dense_1 (Dense)             (None, 10)                1290      \n",
      "                                                                 \n",
      "=================================================================\n",
      "Total params: 693,962\n",
      "Trainable params: 693,962\n",
      "Non-trainable params: 0\n",
      "_________________________________________________________________\n"
     ]
    }
   ],
   "source": [
    "model.summary()"
   ]
  },
  {
   "cell_type": "code",
   "execution_count": 35,
   "metadata": {
    "id": "hOuwgRVZGEAu"
   },
   "outputs": [],
   "source": [
    "from tensorflow.keras.callbacks import EarlyStopping"
   ]
  },
  {
   "cell_type": "code",
   "execution_count": 36,
   "metadata": {
    "id": "rtIURzRFGEDN"
   },
   "outputs": [],
   "source": [
    "early_stop = EarlyStopping(monitor='val_loss',patience=2)"
   ]
  },
  {
   "cell_type": "code",
   "execution_count": 37,
   "metadata": {
    "colab": {
     "base_uri": "https://localhost:8080/"
    },
    "id": "-IDJimxdKq-k",
    "outputId": "6896f2b6-cd97-470e-c6bc-c5d24e15cddf"
   },
   "outputs": [
    {
     "name": "stdout",
     "output_type": "stream",
     "text": [
      "Epoch 1/10\n",
      "1875/1875 [==============================] - 29s 15ms/step - loss: 0.1530 - accuracy: 0.9546 - val_loss: 0.0573 - val_accuracy: 0.9809\n",
      "Epoch 2/10\n",
      "1875/1875 [==============================] - 27s 14ms/step - loss: 0.0517 - accuracy: 0.9842 - val_loss: 0.0494 - val_accuracy: 0.9835\n",
      "Epoch 3/10\n",
      "1875/1875 [==============================] - 26s 14ms/step - loss: 0.0341 - accuracy: 0.9895 - val_loss: 0.0369 - val_accuracy: 0.9875\n",
      "Epoch 4/10\n",
      "1875/1875 [==============================] - 28s 15ms/step - loss: 0.0224 - accuracy: 0.9929 - val_loss: 0.0402 - val_accuracy: 0.9871\n",
      "Epoch 5/10\n",
      "1875/1875 [==============================] - 29s 16ms/step - loss: 0.0152 - accuracy: 0.9955 - val_loss: 0.0429 - val_accuracy: 0.9857\n"
     ]
    },
    {
     "data": {
      "text/plain": [
       "<keras.callbacks.History at 0x1e407271f40>"
      ]
     },
     "execution_count": 37,
     "metadata": {},
     "output_type": "execute_result"
    }
   ],
   "source": [
    "model.fit(X_train, Y_train, batch_size=32, epochs=10, validation_data=(X_test,Y_test),callbacks=[early_stop])\n",
    "# vision'da yüksek batch_size memory'yi yoruyor"
   ]
  },
  {
   "cell_type": "code",
   "execution_count": 38,
   "metadata": {
    "colab": {
     "base_uri": "https://localhost:8080/"
    },
    "id": "wNmOLqBv1Kqn",
    "outputId": "4f7fafc1-4bd9-49b5-e2fb-cebecba1beb7"
   },
   "outputs": [
    {
     "data": {
      "text/plain": [
       "['loss', 'accuracy']"
      ]
     },
     "execution_count": 38,
     "metadata": {},
     "output_type": "execute_result"
    }
   ],
   "source": [
    "model.metrics_names"
   ]
  },
  {
   "cell_type": "code",
   "execution_count": 39,
   "metadata": {
    "colab": {
     "base_uri": "https://localhost:8080/"
    },
    "id": "Brzdl3zN2wrh",
    "outputId": "2a36d800-a41a-4750-c2db-6a63d69e9402"
   },
   "outputs": [
    {
     "data": {
      "text/plain": [
       "{'loss': [0.15303844213485718,\n",
       "  0.051673829555511475,\n",
       "  0.03414684161543846,\n",
       "  0.022378724068403244,\n",
       "  0.01523447223007679],\n",
       " 'accuracy': [0.9545999765396118,\n",
       "  0.98416668176651,\n",
       "  0.9894833564758301,\n",
       "  0.9928666949272156,\n",
       "  0.9955000281333923],\n",
       " 'val_loss': [0.057330138981342316,\n",
       "  0.04940499737858772,\n",
       "  0.03689200431108475,\n",
       "  0.0402052067220211,\n",
       "  0.042894694954156876],\n",
       " 'val_accuracy': [0.98089998960495,\n",
       "  0.9835000038146973,\n",
       "  0.987500011920929,\n",
       "  0.9871000051498413,\n",
       "  0.9857000112533569]}"
      ]
     },
     "execution_count": 39,
     "metadata": {},
     "output_type": "execute_result"
    }
   ],
   "source": [
    "model.history.history"
   ]
  },
  {
   "cell_type": "code",
   "execution_count": 40,
   "metadata": {
    "colab": {
     "base_uri": "https://localhost:8080/",
     "height": 204
    },
    "id": "2zYPEYGK2qyc",
    "outputId": "0d52231e-11a0-4757-eecc-83b06297ca62"
   },
   "outputs": [
    {
     "data": {
      "text/html": [
       "<div>\n",
       "<style scoped>\n",
       "    .dataframe tbody tr th:only-of-type {\n",
       "        vertical-align: middle;\n",
       "    }\n",
       "\n",
       "    .dataframe tbody tr th {\n",
       "        vertical-align: top;\n",
       "    }\n",
       "\n",
       "    .dataframe thead th {\n",
       "        text-align: right;\n",
       "    }\n",
       "</style>\n",
       "<table border=\"1\" class=\"dataframe\">\n",
       "  <thead>\n",
       "    <tr style=\"text-align: right;\">\n",
       "      <th></th>\n",
       "      <th>loss</th>\n",
       "      <th>accuracy</th>\n",
       "      <th>val_loss</th>\n",
       "      <th>val_accuracy</th>\n",
       "    </tr>\n",
       "  </thead>\n",
       "  <tbody>\n",
       "    <tr>\n",
       "      <th>0</th>\n",
       "      <td>0.153038</td>\n",
       "      <td>0.954600</td>\n",
       "      <td>0.057330</td>\n",
       "      <td>0.9809</td>\n",
       "    </tr>\n",
       "    <tr>\n",
       "      <th>1</th>\n",
       "      <td>0.051674</td>\n",
       "      <td>0.984167</td>\n",
       "      <td>0.049405</td>\n",
       "      <td>0.9835</td>\n",
       "    </tr>\n",
       "    <tr>\n",
       "      <th>2</th>\n",
       "      <td>0.034147</td>\n",
       "      <td>0.989483</td>\n",
       "      <td>0.036892</td>\n",
       "      <td>0.9875</td>\n",
       "    </tr>\n",
       "    <tr>\n",
       "      <th>3</th>\n",
       "      <td>0.022379</td>\n",
       "      <td>0.992867</td>\n",
       "      <td>0.040205</td>\n",
       "      <td>0.9871</td>\n",
       "    </tr>\n",
       "    <tr>\n",
       "      <th>4</th>\n",
       "      <td>0.015234</td>\n",
       "      <td>0.995500</td>\n",
       "      <td>0.042895</td>\n",
       "      <td>0.9857</td>\n",
       "    </tr>\n",
       "  </tbody>\n",
       "</table>\n",
       "</div>"
      ],
      "text/plain": [
       "       loss  accuracy  val_loss  val_accuracy\n",
       "0  0.153038  0.954600  0.057330        0.9809\n",
       "1  0.051674  0.984167  0.049405        0.9835\n",
       "2  0.034147  0.989483  0.036892        0.9875\n",
       "3  0.022379  0.992867  0.040205        0.9871\n",
       "4  0.015234  0.995500  0.042895        0.9857"
      ]
     },
     "execution_count": 40,
     "metadata": {},
     "output_type": "execute_result"
    }
   ],
   "source": [
    "summary = pd.DataFrame(model.history.history)\n",
    "summary.head()"
   ]
  },
  {
   "cell_type": "code",
   "execution_count": 41,
   "metadata": {
    "colab": {
     "base_uri": "https://localhost:8080/",
     "height": 405
    },
    "id": "XelPrR8324J7",
    "outputId": "3b4707b3-7db0-4aeb-abc7-4117ac3c2785"
   },
   "outputs": [
    {
     "data": {
      "text/plain": [
       "<matplotlib.legend.Legend at 0x1e4075701f0>"
      ]
     },
     "execution_count": 41,
     "metadata": {},
     "output_type": "execute_result"
    },
    {
     "data": {
      "image/png": "[encoded data removed]",
      "text/plain": [
       "<Figure size 720x432 with 1 Axes>"
      ]
     },
     "metadata": {
      "needs_background": "light"
     },
     "output_type": "display_data"
    }
   ],
   "source": [
    "plt.figure(figsize=(10,6))\n",
    "plt.plot(summary.loss)\n",
    "plt.plot(summary.val_loss)\n",
    "plt.ylabel(\"Loss\")\n",
    "plt.xlabel(\"Epoch\")\n",
    "plt.legend('labels')"
   ]
  },
  {
   "cell_type": "code",
   "execution_count": 42,
   "metadata": {
    "colab": {
     "base_uri": "https://localhost:8080/",
     "height": 405
    },
    "id": "R4sKogEX3KKr",
    "outputId": "84bf2744-647c-409d-f969-91804dcba7a9"
   },
   "outputs": [
    {
     "data": {
      "image/png": "[encoded data removed]",
      "text/plain": [
       "<Figure size 720x432 with 1 Axes>"
      ]
     },
     "metadata": {
      "needs_background": "light"
     },
     "output_type": "display_data"
    }
   ],
   "source": [
    "plt.figure(figsize=(10,6))\n",
    "plt.plot(summary.accuracy)\n",
    "plt.plot(summary.val_accuracy)\n",
    "plt.ylabel(\"Accuracy\")\n",
    "plt.xlabel(\"Epoch\")\n",
    "plt.legend('labels');"
   ]
  },
  {
   "cell_type": "code",
   "execution_count": 43,
   "metadata": {
    "colab": {
     "base_uri": "https://localhost:8080/"
    },
    "id": "1naFYlgT35-S",
    "outputId": "eda1a44e-6d3f-4ebf-b41f-f06bf6142651"
   },
   "outputs": [
    {
     "name": "stdout",
     "output_type": "stream",
     "text": [
      "313/313 [==============================] - 1s 5ms/step - loss: 0.0429 - accuracy: 0.9857\n",
      "[0.042894694954156876, 0.9857000112533569]\n"
     ]
    }
   ],
   "source": [
    "print(model.evaluate(X_test,Y_test,verbose=1))"
   ]
  },
  {
   "cell_type": "code",
   "execution_count": 44,
   "metadata": {
    "id": "3qZywTaf4Nay"
   },
   "outputs": [],
   "source": [
    "from sklearn.metrics import classification_report,confusion_matrix"
   ]
  },
  {
   "cell_type": "code",
   "execution_count": 45,
   "metadata": {
    "id": "IOAxLbRQ4cMe",
    "outputId": "679a31da-bc4a-4d1e-8f0b-eb1bb56a651d"
   },
   "outputs": [
    {
     "data": {
      "text/plain": [
       "array([[7.95348121e-10, 1.07540366e-10, 1.99465418e-07, ...,\n",
       "        9.99994993e-01, 2.90157232e-08, 5.59223068e-09],\n",
       "       [1.33465100e-10, 4.28334488e-06, 9.99995708e-01, ...,\n",
       "        2.69061828e-10, 2.23268803e-09, 1.38254241e-12],\n",
       "       [2.81135817e-06, 9.99762833e-01, 2.47075536e-06, ...,\n",
       "        1.12178779e-04, 9.88231986e-05, 4.23022009e-08],\n",
       "       ...,\n",
       "       [6.52965205e-16, 7.51334541e-13, 3.21969231e-13, ...,\n",
       "        1.53417918e-08, 3.95856059e-09, 1.03043343e-08],\n",
       "       [1.00804055e-12, 1.82335446e-14, 3.01549182e-16, ...,\n",
       "        9.71866129e-11, 3.97564418e-06, 3.82570386e-13],\n",
       "       [4.32056474e-12, 1.81023096e-11, 5.26017355e-11, ...,\n",
       "        4.46454227e-14, 4.81064910e-10, 1.15669410e-13]], dtype=float32)"
      ]
     },
     "execution_count": 45,
     "metadata": {},
     "output_type": "execute_result"
    }
   ],
   "source": [
    "preds = model.predict(X_test)\n",
    "preds"
   ]
  },
  {
   "cell_type": "code",
   "execution_count": 46,
   "metadata": {
    "id": "5Hc9CVZEHPkX",
    "outputId": "5c28f388-ec94-4dac-c759-44ca606a774c"
   },
   "outputs": [
    {
     "data": {
      "text/plain": [
       "array([7.95348121e-10, 1.07540366e-10, 1.99465418e-07, 4.75071374e-06,\n",
       "       2.84841289e-10, 3.30107941e-10, 2.36888525e-12, 9.99994993e-01,\n",
       "       2.90157232e-08, 5.59223068e-09], dtype=float32)"
      ]
     },
     "execution_count": 46,
     "metadata": {},
     "output_type": "execute_result"
    }
   ],
   "source": [
    "preds[0]"
   ]
  },
  {
   "cell_type": "code",
   "execution_count": 47,
   "metadata": {
    "id": "P54bs5fIQ1EU"
   },
   "outputs": [],
   "source": [
    "predictions= np.argmax(preds, axis=1)"
   ]
  },
  {
   "cell_type": "code",
   "execution_count": 48,
   "metadata": {
    "id": "Ci5uKY1_HPkY",
    "outputId": "719f5b82-a9fd-457d-b2ba-dc6df53fc788"
   },
   "outputs": [
    {
     "data": {
      "text/plain": [
       "10000"
      ]
     },
     "execution_count": 48,
     "metadata": {},
     "output_type": "execute_result"
    }
   ],
   "source": [
    "len(predictions)"
   ]
  },
  {
   "cell_type": "code",
   "execution_count": 49,
   "metadata": {
    "colab": {
     "base_uri": "https://localhost:8080/"
    },
    "id": "HzB8GiCOMr2l",
    "outputId": "9cb18311-0d90-498f-a30b-8782c42cb9a9"
   },
   "outputs": [
    {
     "data": {
      "text/plain": [
       "array([7, 2, 1, ..., 4, 5, 6], dtype=int64)"
      ]
     },
     "execution_count": 49,
     "metadata": {},
     "output_type": "execute_result"
    }
   ],
   "source": [
    "predictions"
   ]
  },
  {
   "cell_type": "code",
   "execution_count": 50,
   "metadata": {},
   "outputs": [
    {
     "name": "stdout",
     "output_type": "stream",
     "text": [
      "              precision    recall  f1-score   support\n",
      "\n",
      "           0       1.00      0.98      0.99       980\n",
      "           1       1.00      0.99      0.99      1135\n",
      "           2       0.99      0.98      0.98      1032\n",
      "           3       0.97      0.99      0.98      1010\n",
      "           4       0.99      0.99      0.99       982\n",
      "           5       0.98      0.99      0.98       892\n",
      "           6       0.99      0.99      0.99       958\n",
      "           7       0.98      0.99      0.98      1028\n",
      "           8       0.98      0.98      0.98       974\n",
      "           9       0.99      0.97      0.98      1009\n",
      "\n",
      "    accuracy                           0.99     10000\n",
      "   macro avg       0.99      0.99      0.99     10000\n",
      "weighted avg       0.99      0.99      0.99     10000\n",
      "\n"
     ]
    }
   ],
   "source": [
    "print(classification_report(y_test, predictions))"
   ]
  },
  {
   "cell_type": "code",
   "execution_count": 51,
   "metadata": {
    "colab": {
     "base_uri": "https://localhost:8080/"
    },
    "id": "weQW_anSNmj8",
    "outputId": "813f45f0-ee06-4456-e736-6323e2f2a49a"
   },
   "outputs": [
    {
     "name": "stdout",
     "output_type": "stream",
     "text": [
      "[[ 965    0    2    0    0    3    5    1    4    0]\n",
      " [   0 1125    2    1    0    0    2    2    3    0]\n",
      " [   0    1 1013    8    1    0    1    6    2    0]\n",
      " [   0    0    1  998    0    5    0    4    2    0]\n",
      " [   0    0    0    0  972    0    2    1    1    6]\n",
      " [   0    0    0   10    0  880    2    0    0    0]\n",
      " [   2    2    0    2    1    2  946    0    3    0]\n",
      " [   0    0    5    0    0    0    0 1021    1    1]\n",
      " [   0    0    3    3    2    2    1    5  956    2]\n",
      " [   1    0    0    6    9    4    0    6    2  981]]\n"
     ]
    }
   ],
   "source": [
    "print(confusion_matrix(y_test, predictions))"
   ]
  },
  {
   "cell_type": "code",
   "execution_count": 52,
   "metadata": {
    "colab": {
     "base_uri": "https://localhost:8080/"
    },
    "id": "3DyaGeFU46Hv",
    "outputId": "1b4d6194-9d31-46aa-9692-97f58255cf4a"
   },
   "outputs": [
    {
     "name": "stdout",
     "output_type": "stream",
     "text": [
      "Test loss: 0.042894694954156876\n",
      "Test accuracy: 0.9857000112533569\n"
     ]
    }
   ],
   "source": [
    "score = model.evaluate(X_test, Y_test, verbose=0)\n",
    "print('Test loss:', score[0])\n",
    "print('Test accuracy:', score[1])"
   ]
  },
  {
   "cell_type": "code",
   "execution_count": 53,
   "metadata": {},
   "outputs": [],
   "source": [
    "# yeni bir tahmin yaptıracağız"
   ]
  },
  {
   "cell_type": "code",
   "execution_count": 54,
   "metadata": {
    "id": "WduIUJj64rIp"
   },
   "outputs": [],
   "source": [
    "my_number = X_test[5]"
   ]
  },
  {
   "cell_type": "code",
   "execution_count": 55,
   "metadata": {
    "colab": {
     "base_uri": "https://localhost:8080/",
     "height": 282
    },
    "id": "18_nBUbAN1fh",
    "outputId": "2a575827-dc7d-4fe8-87dd-1398772e800f"
   },
   "outputs": [
    {
     "data": {
      "image/png": "[encoded data removed]",
      "text/plain": [
       "<Figure size 432x288 with 1 Axes>"
      ]
     },
     "metadata": {
      "needs_background": "light"
     },
     "output_type": "display_data"
    }
   ],
   "source": [
    "plt.imshow(my_number.reshape(28,28));"
   ]
  },
  {
   "cell_type": "code",
   "execution_count": 56,
   "metadata": {
    "colab": {
     "base_uri": "https://localhost:8080/"
    },
    "id": "1DCFzSFtOGZF",
    "outputId": "e820db6e-ce10-40f4-e67a-af22438260a5"
   },
   "outputs": [
    {
     "data": {
      "text/plain": [
       "array([[4.2744557e-07, 9.9925333e-01, 1.6470696e-07, 3.8629583e-08,\n",
       "        5.7336420e-06, 2.3023865e-09, 2.2880723e-08, 7.2257791e-04,\n",
       "        1.7525343e-05, 1.9406019e-07]], dtype=float32)"
      ]
     },
     "execution_count": 56,
     "metadata": {},
     "output_type": "execute_result"
    }
   ],
   "source": [
    "model.predict(my_number.reshape(1,28,28,1))  # tahmin almak için tek satırlı hale dönüştürdük\n",
    "\n",
    "# # train setlerimizi modele hazırlarken X_train(60000, 28, 28, 1) yani 4 boyutlu olarak eğittik; bu nedenle reshape ile\n",
    "# aynı boyuta getirmemiz gerekir; buradaki 1, tek resim için anlamında"
   ]
  },
  {
   "cell_type": "code",
   "execution_count": 57,
   "metadata": {
    "colab": {
     "base_uri": "https://localhost:8080/"
    },
    "id": "zetmO1KEN4ro",
    "outputId": "566a3264-50ec-4b38-9a99-46c90da0410e"
   },
   "outputs": [
    {
     "data": {
      "text/plain": [
       "array([1], dtype=int64)"
      ]
     },
     "execution_count": 57,
     "metadata": {},
     "output_type": "execute_result"
    }
   ],
   "source": [
    "# SHAPE --> (num_images,width,height,color_channels)\n",
    "np.argmax(model.predict(my_number.reshape(1,28,28,1)), axis=1)"
   ]
  },
  {
   "cell_type": "code",
   "execution_count": 58,
   "metadata": {
    "id": "OuF9luxd1p56"
   },
   "outputs": [],
   "source": [
    "model.save(\"cnn-1.h5\")"
   ]
  }
 ],
 "metadata": {
  "colab": {
   "collapsed_sections": [],
   "name": "DL-S5 (CNN_MNIST_DATA)-30 Oct 2021.ipynb",
   "provenance": []
  },
  "kernelspec": {
   "display_name": "Python 3 (ipykernel)",
   "language": "python",
   "name": "python3"
  },
  "language_info": {
   "codemirror_mode": {
    "name": "ipython",
    "version": 3
   },
   "file_extension": ".py",
   "mimetype": "text/x-python",
   "name": "python",
   "nbconvert_exporter": "python",
   "pygments_lexer": "ipython3",
   "version": "3.9.6"
  }
 },
 "nbformat": 4,
 "nbformat_minor": 1
}
