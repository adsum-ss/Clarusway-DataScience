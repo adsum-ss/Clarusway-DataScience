{
  "nbformat": 4,
  "nbformat_minor": 0,
  "metadata": {
    "kernelspec": {
      "display_name": "Python 3",
      "language": "python",
      "name": "python3"
    },
    "language_info": {
      "codemirror_mode": {
        "name": "ipython",
        "version": 3
      },
      "file_extension": ".py",
      "mimetype": "text/x-python",
      "name": "python",
      "nbconvert_exporter": "python",
      "pygments_lexer": "ipython3",
      "version": "3.7.3"
    },
    "colab": {
      "name": "python_workshop_3(student).ipynb",
      "provenance": [],
      "collapsed_sections": []
    }
  },
  "cells": [
    {
      "cell_type": "markdown",
      "metadata": {
        "id": "klUrHqsAI58a"
      },
      "source": [
        "<center><img src=\"https://github.com/aaron-clarusway/fullstack/blob/master/itf-logo.png?raw=true\"  alt=\"alt text\" width=\"200\"/></center>\n",
        "<br>\n",
        "<h1><p style=\"text-align: center; color:darkblue\">Python Basic</p><h1>\n",
        "<center><h1>Workshop - 2</h1></center>\n",
        "<p><img align=\"right\"\n",
        "  src=\"https://secure.meetupstatic.com/photos/event/3/1/b/9/600_488352729.jpeg\"  width=\"15px\"></p>\n",
        "<br>\n",
        "\n",
        "\n",
        "# Subject: Collections - Control Flow Statements"
      ]
    },
    {
      "cell_type": "markdown",
      "metadata": {
        "id": "gHzlOoHgI58l"
      },
      "source": [
        "## Coding Challenge-1 : Find the Largest Number\n",
        "\n",
        "Purpose of the this coding challenge is to solve a simple sorting problem in Python.\n",
        "\n",
        "### Learning Outcomes\n",
        "\n",
        "At the end of the this coding challenge, students will be able to;\n",
        "\n",
        "- get a basic understanding of sorting algorithms.\n",
        "- demonstrate their knowledge of lists in python\n",
        "- implement loops to solve the problems in python\n",
        "- get a better understanding of computational thinking concepts\n",
        "\n",
        "### Problem Statement\n",
        "  \n",
        "- Write a python code that finds the largest number among the ``n`` numbers given by the user as input.\n",
        "\n",
        "- First, take `n` from the user, then take `n` numbers one by one and select-print the largest one.\n",
        "\n",
        "- It is forbidden to use ``max()`` function.  \n",
        "\n",
        "- Indicate which computational thinking concepts have you used.\n",
        "\n",
        "- Example for user inputs and respective outputs\n",
        "\n",
        "```text\n",
        "Input                Output\n",
        "---------------:     -------------------------:\n",
        "n = 5, 1 2 3 4 5     The largest number is:  5\n",
        "n = 3, 67 85 19      The largest number is:  85\n",
        "```"
      ]
    },
    {
      "cell_type": "markdown",
      "metadata": {
        "id": "1r2fo3l7I58q"
      },
      "source": [
        "### Solution :"
      ]
    },
    {
      "cell_type": "code",
      "metadata": {
        "id": "jSuMMhC6I58s",
        "colab": {
          "base_uri": "https://localhost:8080/"
        },
        "outputId": "177d9c38-c40e-4f3a-d1d2-0066cd0a3d8a"
      },
      "source": [
        "\n",
        "a = int(input(\"how many numbers will you enter: \"))\n",
        "\n",
        "liste = []\n",
        "for i in range(a):\n",
        "  b = int(input(\"pls enter the number: \"))\n",
        "  liste.append(b)\n",
        "\n",
        "liste = sorted(liste)\n",
        "\n",
        "print(liste[-1])\n",
        "print(liste)\n"
      ],
      "execution_count": null,
      "outputs": [
        {
          "output_type": "stream",
          "text": [
            "how many numbers will you enter: 4\n",
            "pls enter the number: 44\n",
            "pls enter the number: 22\n",
            "pls enter the number: 13\n",
            "pls enter the number: 35\n",
            "44\n",
            "[13, 22, 35, 44]\n"
          ],
          "name": "stdout"
        }
      ]
    },
    {
      "cell_type": "code",
      "metadata": {
        "colab": {
          "base_uri": "https://localhost:8080/"
        },
        "id": "pK-EQJGU9nuL",
        "outputId": "999cda99-3d1d-4c44-9d46-a8a1ebc13450"
      },
      "source": [
        "size=int(input(\"how many number will you enter?\"))\n",
        "list=[]\n",
        "count=0\n",
        "\n",
        "while count<size:\n",
        "  number=int(input(\"enter number: \"))\n",
        "  list.append(number)\n",
        "  count+=1\n",
        "\n",
        "largest=list[0]\n",
        "\n",
        "for i in list:\n",
        "  if i>largest: \n",
        "    largest=i\n",
        "\n",
        "print(largest)"
      ],
      "execution_count": 1,
      "outputs": [
        {
          "output_type": "stream",
          "text": [
            "how many number will you enter?5\n",
            "enter number: 33\n",
            "enter number: 48\n",
            "enter number: 12\n",
            "enter number: 20\n",
            "enter number: 15\n",
            "48\n"
          ],
          "name": "stdout"
        }
      ]
    },
    {
      "cell_type": "markdown",
      "metadata": {
        "id": "YQA2OaIsI58x"
      },
      "source": [
        "## Coding Challenge-2 : Group Anagrams\n",
        "\n",
        "Purpose of the this coding challenge is to solve a grouping algorithm in Python.\n",
        "\n",
        "### Learning Outcomes\n",
        "\n",
        "At the end of the this coding challenge, students will be able to;\n",
        "\n",
        "- get a basic understanding of grouping algorithms.\n",
        "- demonstrate their knowledge of lists, dicts in python\n",
        "- implement loops to solve the problems in python\n",
        "- get a better understanding of computational thinking concepts\n",
        "\n",
        "### Problem Statement\n",
        "  \n",
        "- Given a list of strings, group anagrams together.\n",
        "\n",
        "- Example:\n",
        "\n",
        "**Input:**\n",
        "```\n",
        "[\"eat\", \"tea\", \"tan\", \"ate\", \"nat\", \"bat\"],\n",
        "Output:\n",
        "[\n",
        "  [\"ate\",\"eat\",\"tea\"],\n",
        "  [\"nat\",\"tan\"],\n",
        "  [\"bat\"]\n",
        "]\n",
        "```\n",
        "Note:\n",
        "All inputs will be in lowercase.\n",
        "The order of your output does not matter."
      ]
    },
    {
      "cell_type": "markdown",
      "metadata": {
        "id": "6rIiurMFI580"
      },
      "source": [
        "### Solution :"
      ]
    },
    {
      "cell_type": "code",
      "metadata": {
        "id": "cw1VGpWUI582",
        "outputId": "bf3dfb71-c8a6-4d92-cb19-b483a1272021"
      },
      "source": [
        "strs = [\"eat\", \"tea\", \"tan\", \"ate\", \"nat\", \"bat\", \"cat\", \"tac\"]"
      ],
      "execution_count": null,
      "outputs": [
        {
          "output_type": "stream",
          "text": [
            "[['eat', 'tea', 'ate'], ['tan', 'nat'], ['bat'], ['cat', 'tac']]\n"
          ],
          "name": "stdout"
        }
      ]
    },
    {
      "cell_type": "code",
      "metadata": {
        "colab": {
          "base_uri": "https://localhost:8080/"
        },
        "id": "l1dEnS4fDdUc",
        "outputId": "3ffef358-2c94-496e-d8ce-c06027ce5019"
      },
      "source": [
        "anagrams = ['eat', 'tea', 'tan', 'ate', 'nat', 'bat', 'cat', 'tac']\n",
        "grouped_anagrams = {}\n",
        "\n",
        "for string in anagrams:\n",
        "   sorted_string = str(sorted(string))\n",
        "   if sorted_string in grouped_anagrams:\n",
        "      grouped_anagrams[sorted_string].append(string)\n",
        "   else:\n",
        "      grouped_anagrams[sorted_string] = [string]\n",
        "print(grouped_anagrams.values())"
      ],
      "execution_count": 7,
      "outputs": [
        {
          "output_type": "stream",
          "text": [
            "dict_values([['eat', 'tea', 'ate'], ['tan', 'nat'], ['bat'], ['cat', 'tac']])\n"
          ],
          "name": "stdout"
        }
      ]
    },
    {
      "cell_type": "code",
      "metadata": {
        "colab": {
          "base_uri": "https://localhost:8080/"
        },
        "id": "hQngyFgo980u",
        "outputId": "221d2580-8635-4ef7-9635-ec1a4e47ef3f"
      },
      "source": [
        "strs = [\"eat\", \"tea\", \"tan\", \"ate\", \"nat\", \"bat\", \"cat\", \"tac\"]\n",
        "anag={}\n",
        "\n",
        "for i in strs:\n",
        "  element=\"\".join(sorted(i))\n",
        "  if element in anag:\n",
        "      anag[element].append(i)\n",
        "  else:\n",
        "      anag[element]=[i]\n",
        "\n",
        "print(anag.values())"
      ],
      "execution_count": 2,
      "outputs": [
        {
          "output_type": "stream",
          "text": [
            "dict_values([['eat', 'tea', 'ate'], ['tan', 'nat'], ['bat'], ['cat', 'tac']])\n"
          ],
          "name": "stdout"
        }
      ]
    },
    {
      "cell_type": "markdown",
      "metadata": {
        "id": "TWLcDf17I586"
      },
      "source": [
        "## Coding Challenge - 3: Calculating the Amount of Water to be Trapped on Terrain\n",
        "\n",
        "The purpose of this coding challenge is to write a program that calculates the amount of water that can be contained within the generated holes.\n",
        "\n",
        "### Learning Outcomes\n",
        "\n",
        "At the end of this coding challenge, students will be able to;\n",
        "\n",
        "- analyze a problem, identify, and apply programming knowledge for appropriate solution.\n",
        "\n",
        "- design, implement `while` loops effectively in Python to solve the given problem.\n",
        "\n",
        "- control loops effectively by using `if` and `control` statements.\n",
        "\n",
        "- demonstrate their knowledge of algorithmic design principles by using solving the problem effectively.\n",
        "\n",
        "### Problem Statement\n",
        "\n",
        "- Given an array of non-negative integers representing an elevation map as shown below where the width of each bar is 1, compute how much water will be trapped on terrain after raining. To clarify further, the black boxes represents terrain and its height, and the blue boxes represents the water that could be trapped on the terrain.\n",
        "\n",
        "<center><img src=\"https://raw.githubusercontent.com/andrewfade/myprojects/main/image.png\" /></center>\n",
        "\n",
        "- User can enter as many numbers as they want to represent elevation of the terrain.\n",
        "\n",
        "- You can assume all the inputs are valid, thus you don't have to do an input check.\n",
        "\n",
        "- At the end of the program write a comment that indicates which computational thinking heuristics you have used and how you used them.\n",
        "\n",
        "- Example of user inputs and respective outputs.\n",
        "\n",
        "```text\n",
        "Inputs\n",
        "------------------------------\n",
        "Type 'ok' when you are done: 5\n",
        "Type 'ok' when you are done: 4\n",
        "Type 'ok' when you are done: 5\n",
        "Type 'ok' when you are done: ok\n",
        "\n",
        "Output\n",
        "------\n",
        "1\n",
        "\n",
        "Inputs\n",
        "------------------------------\n",
        "Type 'ok' when you are done: 2\n",
        "Type 'ok' when you are done: 1\n",
        "Type 'ok' when you are done: 2\n",
        "Type 'ok' when you are done: 3\n",
        "Type 'ok' when you are done: 2\n",
        "Type 'ok' when you are done: 3\n",
        "Type 'ok' when you are done: ok\n",
        "\n",
        "Output\n",
        "------\n",
        "2\n",
        "\n",
        "Inputs\n",
        "------------------------------\n",
        "Type 'ok' when you are done: 6\n",
        "Type 'ok' when you are done: 5\n",
        "Type 'ok' when you are done: 8\n",
        "Type 'ok' when you are done: 9\n",
        "Type 'ok' when you are done: 2\n",
        "Type 'ok' when you are done: 4\n",
        "Type 'ok' when you are done: 3\n",
        "Type 'ok' when you are done: 6\n",
        "Type 'ok' when you are done: ok\n",
        "\n",
        "Output\n",
        "------\n",
        "10\n",
        "```"
      ]
    },
    {
      "cell_type": "markdown",
      "metadata": {
        "id": "NUS2xcOUI58-"
      },
      "source": [
        "### Solution :"
      ]
    },
    {
      "cell_type": "code",
      "metadata": {
        "id": "iMjq0tj-I59E",
        "colab": {
          "base_uri": "https://localhost:8080/"
        },
        "outputId": "0e03ed86-da05-46cf-9a60-53247857594b"
      },
      "source": [
        "liste=[]\n",
        "while True:\n",
        "    a=input(\"Type ‘ok’ when you are done:\")\n",
        "    if a.isdigit():\n",
        "        liste.append(int(a))\n",
        "    else:\n",
        "       break\n",
        "k=0\n",
        "toplam=0\n",
        "for i in range(1,len(liste)-1):\n",
        "    k=min(max(liste[i+1:]),max(liste[i-1::-1]))\n",
        "    if liste[i]<k:\n",
        "        toplam+=k-liste[i]\n",
        "print(toplam)"
      ],
      "execution_count": 8,
      "outputs": [
        {
          "output_type": "stream",
          "text": [
            "Type ‘ok’ when you are done:0\n",
            "Type ‘ok’ when you are done:1\n",
            "Type ‘ok’ when you are done:0\n",
            "Type ‘ok’ when you are done:2\n",
            "Type ‘ok’ when you are done:1\n",
            "Type ‘ok’ when you are done:0\n",
            "Type ‘ok’ when you are done:1\n",
            "Type ‘ok’ when you are done:3\n",
            "Type ‘ok’ when you are done:2\n",
            "Type ‘ok’ when you are done:1\n",
            "Type ‘ok’ when you are done:2\n",
            "Type ‘ok’ when you are done:1\n",
            "Type ‘ok’ when you are done:ok\n",
            "6\n"
          ],
          "name": "stdout"
        }
      ]
    },
    {
      "cell_type": "code",
      "metadata": {
        "id": "1cCz1ryfI59G",
        "colab": {
          "base_uri": "https://localhost:8080/"
        },
        "outputId": "39d32468-6470-4a75-b73f-5a13eff07b9c"
      },
      "source": [
        "#This method calculates the amount of water trapped. The only argument\n",
        "#passed is the elevation map, in form of a list.\n",
        "\n",
        "def trapped_water(elevation_map):\n",
        "  \n",
        "  water = 0 #keeps track of the total water as we traverse the elevation map\n",
        "\n",
        "  n = len(elevation_map) #number of points on the map\n",
        "  \n",
        "  #lists to store the left_max and right_max of each point in the map\n",
        "\n",
        "  left_max = [0]*n \n",
        "  right_max = [0]*n \n",
        "  \n",
        "  #default values\n",
        "  left_max[0] = elevation_map[0]\n",
        "  right_max[n-1] = elevation_map[n-1]\n",
        "\n",
        "  #filling the left_max list\n",
        "  for i in range(1,n):\n",
        "    left_max[i] = max(left_max[i-1], elevation_map[i])\n",
        "\n",
        "  #filling the right_max list\n",
        "  for i in range(n-2, -1, -1):\n",
        "    right_max[i] = max(right_max[i+1], elevation_map[i])\n",
        "\n",
        "  #calculating the amount of water\n",
        "  for i in range(n):\n",
        "    water += min(left_max[i],right_max[i]) - elevation_map[i]\n",
        "\n",
        "  return water\n",
        "\n",
        "\n",
        "elevation_map = [1, 2, 1, 3, 1, 2, 1, 4, 1, 0, 0, 2, 1, 4]\n",
        "print(\"Total units of water trapped: \",trapped_water(elevation_map))"
      ],
      "execution_count": null,
      "outputs": [
        {
          "output_type": "stream",
          "text": [
            "Total units of water trapped:  22\n"
          ],
          "name": "stdout"
        }
      ]
    }
  ]
}