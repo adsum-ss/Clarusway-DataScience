{
  "nbformat": 4,
  "nbformat_minor": 0,
  "metadata": {
    "colab": {
      "name": "Comfortable Words.ipynb",
      "provenance": [],
      "collapsed_sections": []
    },
    "kernelspec": {
      "name": "python3",
      "display_name": "Python 3"
    },
    "language_info": {
      "name": "python"
    }
  },
  "cells": [
    {
      "cell_type": "markdown",
      "metadata": {
        "id": "11Rb9OwWX0NV"
      },
      "source": [
        "**Assignment-009/2 (Comfortable Words)**\n",
        "\n",
        "💡**Objective:**\n",
        "\n",
        "To improve your knowledge of collection types (set), boolean logic and raise your awareness of \"ten fingers keyboard\".\n",
        "\n",
        "After finishing the task correctly, then submit your answer (code) as plain text which shows you did correctly.\n",
        "\n",
        "**Task :** Find out if the given word is \"comfortable words\" in relation to the ten-finger keyboard use.\n",
        "\n",
        "1. A comfortable word is a word which you can type always alternating the hand you type with (assuming you type using a Q-keyboard and use of the ten-fingers standard).\n",
        "2. The word will always be a string consisting of only letters from a to z.\n",
        "3. Write a program which returns True if it's a comfortable word or False otherwise.\n",
        "\n",
        "**Examples**\n",
        "\n",
        "Given word ...............Desired Output (explanation)\n",
        "\n",
        "* tester ........................False (uses only left-hand fingers)\n",
        "* polly ..........................False (uses only right-hand fingers)\n",
        "* clarusway .................True (uses both hand fingers)\n",
        "\n",
        "* **Note :** \n",
        "  Do a quick research on ten-fingers keyboard usage. (*) the explanation doesn't need to be in the output."
      ]
    },
    {
      "cell_type": "code",
      "metadata": {
        "colab": {
          "base_uri": "https://localhost:8080/"
        },
        "id": "wsscrYzuXxWD",
        "outputId": "aa32095f-e250-464a-d4ae-ff1f24305605"
      },
      "source": [
        "left_hand = set(\"qwertasdfgzxcvb\")\n",
        "right_hand = set(\"yuiophjklnm\")\n",
        "\n",
        "comf_word1 = bool(set(\"tester\").intersection(left_hand)) and bool(set(\"tester\").intersection(right_hand))\n",
        "comf_word2 = bool(set(\"polly\").intersection(left_hand)) and bool(set(\"polly\").intersection(right_hand))\n",
        "comf_word3 = bool(set(\"clarusway\").intersection(left_hand)) and bool(set(\"clarusway\").intersection(right_hand))\n",
        "\n",
        "print(comf_word1)\n",
        "print(comf_word2)\n",
        "print(comf_word3)"
      ],
      "execution_count": null,
      "outputs": [
        {
          "output_type": "stream",
          "text": [
            "False\n",
            "False\n",
            "True\n"
          ],
          "name": "stdout"
        }
      ]
    }
  ]
}