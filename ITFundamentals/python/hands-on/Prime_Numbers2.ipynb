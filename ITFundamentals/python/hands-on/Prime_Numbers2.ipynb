{
  "nbformat": 4,
  "nbformat_minor": 0,
  "metadata": {
    "colab": {
      "name": "Prime_Numbers2.ipynb",
      "provenance": []
    },
    "kernelspec": {
      "name": "python3",
      "display_name": "Python 3"
    },
    "language_info": {
      "name": "python"
    }
  },
  "cells": [
    {
      "cell_type": "markdown",
      "metadata": {
        "id": "jKSO_2fN3eZQ"
      },
      "source": [
        "**Assignment-009/6 (Prime Numbers)**\n",
        "\n",
        "💡**Objective:**\n",
        "\n",
        "**Task :** Print the prime numbers which are between 1 to entered limit number (n).\n",
        "\n",
        "- You can use a nested for loop.\n",
        "- Collect all these numbers into a list\n",
        "\n",
        "**The desired output for n=100 :**\n",
        "\n",
        "[2, 3, 5, 7, 11, 13, 17, 19, 23, 29, 31, 37, 41, 43, 47, 53, 59,\n",
        "61, 67, 71, 73, 79, 83, 89, 97]"
      ]
    },
    {
      "cell_type": "code",
      "metadata": {
        "colab": {
          "base_uri": "https://localhost:8080/"
        },
        "id": "rbrR692Pr_DJ",
        "outputId": "314c50d8-33c6-4031-b9cb-cdb29b54bc4f"
      },
      "source": [
        "pn_list = []\n",
        "\n",
        "for i in range(2, 100):\n",
        "  for ii in range(2, i):\n",
        "    if (i % ii) == 0:\n",
        "      break;\n",
        "  else:\n",
        "    pn_list.append(i)\n",
        "\n",
        "print(pn_list)\n",
        "    "
      ],
      "execution_count": 88,
      "outputs": [
        {
          "output_type": "stream",
          "text": [
            "[2, 3, 5, 7, 11, 13, 17, 19, 23, 29, 31, 37, 41, 43, 47, 53, 59, 61, 67, 71, 73, 79, 83, 89, 97]\n"
          ],
          "name": "stdout"
        }
      ]
    },
    {
      "cell_type": "code",
      "metadata": {
        "colab": {
          "base_uri": "https://localhost:8080/"
        },
        "id": "mTbImRX2_Qjt",
        "outputId": "0dde9fdb-d3ca-4792-e10d-6cce3c60c775"
      },
      "source": [
        "#  only one element was changed so that the \"for-else logic\" could be understood\n",
        "\n",
        "liste = []\n",
        "\n",
        "for i in range(2, 100):\n",
        "  for ii in range(2, 100):\n",
        "    if (i % ii) == 0:\n",
        "      break;\n",
        "  else:\n",
        "    liste.append(i)\n",
        "\n",
        "print(liste)\n",
        "    "
      ],
      "execution_count": 89,
      "outputs": [
        {
          "output_type": "stream",
          "text": [
            "[]\n"
          ],
          "name": "stdout"
        }
      ]
    },
    {
      "cell_type": "code",
      "metadata": {
        "colab": {
          "base_uri": "https://localhost:8080/"
        },
        "id": "N74omR1YNBy7",
        "outputId": "0c741229-9fc9-46d2-e434-5143ca156f3e"
      },
      "source": [
        "#  SECOND SOLUTION     \n",
        "\n",
        "pn_list = []\n",
        "\n",
        "for num in range(100):  \n",
        "   if num > 1:  \n",
        "       for i in range(2,num):  \n",
        "           if (num % i) == 0:  \n",
        "               break  \n",
        "       else:  \n",
        "           pn_list.append(num) \n",
        "\n",
        "print(pn_list)"
      ],
      "execution_count": 90,
      "outputs": [
        {
          "output_type": "stream",
          "text": [
            "[2, 3, 5, 7, 11, 13, 17, 19, 23, 29, 31, 37, 41, 43, 47, 53, 59, 61, 67, 71, 73, 79, 83, 89, 97]\n"
          ],
          "name": "stdout"
        }
      ]
    }
  ]
}