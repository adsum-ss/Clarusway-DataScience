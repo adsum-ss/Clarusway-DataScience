{
  "nbformat": 4,
  "nbformat_minor": 0,
  "metadata": {
    "colab": {
      "name": "palindrome_number.ipynb",
      "provenance": [],
      "collapsed_sections": []
    },
    "kernelspec": {
      "name": "python3",
      "display_name": "Python 3"
    },
    "language_info": {
      "name": "python"
    }
  },
  "cells": [
    {
      "cell_type": "markdown",
      "metadata": {
        "id": "66KCGz9kIAjX"
      },
      "source": [
        "A palindrome is a number that is the same when reversed, 2770772 for example. A palindrome can often be formed by adding a number to it's reverse: 641 + 146 = 787 (a palindrome). Using 78 as the seed, it takes 4 steps to produce a palindrome:\n",
        "\n",
        "78 + 87 = 165\n",
        "165 + 561 = 726\n",
        "726 + 627 = 1353\n",
        "1353 + 3531 = 4884 (a palindrome)\n",
        "\n",
        "> About 97% of integers less than 10,000 produce palindromes in less than 25 steps. A few, like 196 and 879, may never form palindromes.\n",
        "\n",
        "Make a function that takes a palindrome as it's an argument and returns the smallest seed integer that will produce that palindrome, along with the number of steps required:\n",
        "\n",
        "pal_seq(palindrome) = (seed, steps)\n",
        "\n",
        "pal_seq(4884) ➞ (69, 4)\n",
        "\n",
        "pal_seq(1) ➞ (1, 0)\n",
        "\n",
        "pal_seq(11) ➞ (10, 1) --> 10 + 01 = 11\n",
        "\n",
        "pal_seq(3113) ➞ (199, 3)\n",
        "\n",
        "pal_seq(8836886388) ➞ (177, 15)\n",
        "\n",
        "**Notes**\n",
        "\n",
        "The sequence always terminates when the first palindrome is produced. If the seed is a palindrome, the sequence has 0 steps."
      ]
    },
    {
      "cell_type": "code",
      "metadata": {
        "colab": {
          "base_uri": "https://localhost:8080/"
        },
        "id": "pWMmmlKJ3Nax",
        "outputId": "a5a30890-b1c6-491f-d9ec-7af4cb108e76"
      },
      "source": [
        "\n",
        "def pal_seq(number):\n",
        "  seq = []\n",
        "  count = 0\n",
        "\n",
        "  if number != int(str(number)[::-1]):\n",
        "    return \"it is not a palindrome number\"\n",
        "\n",
        "  for i in range(number):\n",
        "    if i == int(str(i)[::-1]):\n",
        "      continue;\n",
        "    while i < number:\n",
        "      count += 1\n",
        "      seq.append(i)\n",
        "      i += int(str(i)[::-1])\n",
        "      if i == int(str(i)[::-1]) and i != number or i > number:\n",
        "        count = 0\n",
        "        seq.clear()\n",
        "        break;\n",
        "      if i == number:\n",
        "        return (seq[0], count, seq)\n",
        "\n",
        "  if number < 10:\n",
        "    return(number, 0)\n",
        "\n",
        "pal_seq(4884)"
      ],
      "execution_count": 59,
      "outputs": [
        {
          "output_type": "execute_result",
          "data": {
            "text/plain": [
              "(69, 4, [69, 165, 726, 1353])"
            ]
          },
          "metadata": {
            "tags": []
          },
          "execution_count": 59
        }
      ]
    }
  ]
}