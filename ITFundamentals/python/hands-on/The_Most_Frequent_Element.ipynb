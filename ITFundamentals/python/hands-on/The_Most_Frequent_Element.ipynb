{
  "nbformat": 4,
  "nbformat_minor": 0,
  "metadata": {
    "colab": {
      "name": "The Most Frequent Element.ipynb",
      "provenance": [],
      "collapsed_sections": []
    },
    "kernelspec": {
      "name": "python3",
      "display_name": "Python 3"
    },
    "language_info": {
      "name": "python"
    }
  },
  "cells": [
    {
      "cell_type": "markdown",
      "metadata": {
        "id": "oM29iOCEU1eW"
      },
      "source": [
        "**Assignment-009/1 (The Most Frequent Element)**\n",
        "\n",
        "💡**Objective:**\n",
        "\n",
        "To improve your knowledge of collection types (list), working with several built-in functions skills.\n",
        "\n",
        "After finishing the task correctly, then submit your answer (code) as plain text which shows you did correctly.\n",
        "\n",
        "**Task :** Find out the most frequent number and its frequency.\n",
        "\n",
        "Write a program that;\n",
        "\n",
        "1. Finds out the most frequent number in the given list.\n",
        "2. Calculates its frequency.\n",
        "3. Prints out the result such as :\n",
        "\n",
        "**Example**\n",
        "\n",
        "Given List\n",
        "numbers = [1, 3, 7, 4, 3, 0, 3, 6, 3]\n",
        "\n",
        "Desired Output\n",
        "the most frequent number is 3 and it was 4 times repeated\n",
        "\n",
        "**Note :** You can/should use useful/necessary built-in functions and methods of the list operation."
      ]
    },
    {
      "cell_type": "code",
      "metadata": {
        "colab": {
          "base_uri": "https://localhost:8080/"
        },
        "id": "H-nvfvN-Uyz4",
        "outputId": "2990427c-abce-4bd5-adef-57ecd3dfaef2"
      },
      "source": [
        "numbers = [1, 3, 7, 4, 3, 0, 3, 6, 3]\n",
        "\n",
        "most_frequent_num = max(numbers, key = numbers.count)\n",
        "frequency = numbers.count(most_frequent_num)\n",
        "\n",
        "print(\"the most frequent number is {} and it was {} times repeated\".format(most_frequent_num, frequency))"
      ],
      "execution_count": null,
      "outputs": [
        {
          "output_type": "stream",
          "text": [
            "the most frequent number is 3 and it was 4 times repeated\n"
          ],
          "name": "stdout"
        }
      ]
    }
  ]
}