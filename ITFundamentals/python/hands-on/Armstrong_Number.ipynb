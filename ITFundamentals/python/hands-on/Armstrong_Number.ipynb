{
  "nbformat": 4,
  "nbformat_minor": 0,
  "metadata": {
    "colab": {
      "name": "Armstrong_Number.ipynb",
      "provenance": []
    },
    "kernelspec": {
      "name": "python3",
      "display_name": "Python 3"
    },
    "language_info": {
      "name": "python"
    }
  },
  "cells": [
    {
      "cell_type": "markdown",
      "metadata": {
        "id": "HjjrNzxpBzT3"
      },
      "source": [
        "**Assignment-009/3 (Is it an Armstrong Number?)**\n",
        "\n",
        "💡**Objective:**\n",
        "To improve your control flow statement and arithmetic operator algorithm skills.\n",
        "Write your Python codes on any IDE, push it up to your GitHub repository and submit your GitHub Page link address in addition to your code as a plain text.\n",
        " \n",
        "**Task:**\n",
        "\n",
        "Find out if a given number is an \"Armstrong Number\".\n",
        "\n",
        "* An n-digit number that is the sum of the nth powers of its digits is called an n-Armstrong number. Examples :\n",
        "\n",
        "> 371 = 3^3 + 7^3 + 1^3;\n",
        "\n",
        "> 9474 = 9^4 + 4^4 + 7^4 + 4^4;\n",
        "\n",
        "> 93084 = 9^5 + 3^5 + 0^5 + 8^5 + 4^5.\n",
        "\n",
        "* Write a Python program that;\n",
        "\n",
        "1. takes a positive integer number from the user,\n",
        "2. checks the entered number if it is Armstrong,\n",
        "3. consider the negative, float and any entries other than numeric values then display a warning message to the user.\n",
        "\n",
        "**Examples**\n",
        "\n",
        "Sample inputs.........Outputs\n",
        "1. 407...................................407 is an Armstrong number\n",
        "2. 5........................................5 is an Armstrong number\n",
        "3. -153...................................It is an invalid entry. Don't use non-numeric, float, or negative values!\n",
        "4. 153.87 or 153,87..............It is an invalid entry. Don't use non-numeric, float, or negative values!\n",
        "5. one....................................It is an invalid entry. Don't use non-numeric, float, or negative values!\n",
        "6. 121...................................121 is not an Armstrong number\n",
        "\n",
        "***Note that;do not use try - except block.***"
      ]
    },
    {
      "cell_type": "code",
      "metadata": {
        "colab": {
          "base_uri": "https://localhost:8080/"
        },
        "id": "_PcpHyKRBwwg",
        "outputId": "312ff086-ca9e-45d6-be6e-8566bdcb642f"
      },
      "source": [
        "number = input(\"Enter a number: \")\n",
        "\n",
        "while not number.isdigit():\n",
        "  print(\"It is an invalid entry. Don't use non-numeric, float, or negative values!\")\n",
        "  number = input(\"Enter a number: \")\n",
        "\n",
        "digits = list(number)\n",
        "total = 0\n",
        "\n",
        "for i in digits:\n",
        "  digit_value = int(i)**len(digits)\n",
        "  total += digit_value\n",
        "\n",
        "if total == int(number):\n",
        "  print(number, \"is an Armstrong number\")\n",
        "else:\n",
        "  print(number, \"is not an Armstrong number\")\n",
        "  "
      ],
      "execution_count": 48,
      "outputs": [
        {
          "output_type": "stream",
          "text": [
            "Enter a number: -157\n",
            "It is an invalid entry. Don't use non-numeric, float, or negative values!\n",
            "Enter a number: 89.75\n",
            "It is an invalid entry. Don't use non-numeric, float, or negative values!\n",
            "Enter a number: adsum\n",
            "It is an invalid entry. Don't use non-numeric, float, or negative values!\n",
            "Enter a number: 1634\n",
            "1634 is an Armstrong number\n"
          ],
          "name": "stdout"
        }
      ]
    }
  ]
}