{
  "nbformat": 4,
  "nbformat_minor": 0,
  "metadata": {
    "colab": {
      "name": "Fibonacci_Numbers.ipynb",
      "provenance": [],
      "collapsed_sections": []
    },
    "kernelspec": {
      "name": "python3",
      "display_name": "Python 3"
    },
    "language_info": {
      "name": "python"
    }
  },
  "cells": [
    {
      "cell_type": "markdown",
      "metadata": {
        "id": "rXuweSFRLACm"
      },
      "source": [
        "**Assignment-009/5 (Fibonacci Numbers)**\n",
        "\n",
        "**Task : **\n",
        "\n",
        "Create a list consisting of Fibonacci numbers from 1 to 55 using control flow statements.\n",
        "\n",
        "*The desired output is like :*\n",
        "\n",
        "fibonacci →  [1, 1, 2, 3, 5, 8, 13, 21, 34, 55]"
      ]
    },
    {
      "cell_type": "code",
      "metadata": {
        "colab": {
          "base_uri": "https://localhost:8080/"
        },
        "id": "pkXtfKaxepHS",
        "outputId": "88733fe9-7f10-422f-ed9d-880f8ae0ebe8"
      },
      "source": [
        "f_numbers = []\n",
        "n = 1\n",
        "\n",
        "while len(f_numbers) < 2:\n",
        "    f_numbers.append(n)\n",
        "\n",
        "while len(f_numbers) >= 2:\n",
        "    number = f_numbers[-1] + f_numbers[-2]\n",
        "    f_numbers.append(number)\n",
        "\n",
        "    if f_numbers[-1] == 55:\n",
        "      break\n",
        "    \n",
        "print(f_numbers)"
      ],
      "execution_count": 46,
      "outputs": [
        {
          "output_type": "stream",
          "text": [
            "[1, 1, 2, 3, 5, 8, 13, 21, 34, 55]\n"
          ],
          "name": "stdout"
        }
      ]
    },
    {
      "cell_type": "code",
      "metadata": {
        "colab": {
          "base_uri": "https://localhost:8080/"
        },
        "id": "mDlmNMS4K8hq",
        "outputId": "888db477-d3ed-43ca-86fb-3b556c163350"
      },
      "source": [
        "f_numbers = [1, 1]\n",
        "\n",
        "for i in range(8):\n",
        "  i = f_numbers[-1] + f_numbers[-2]\n",
        "  f_numbers.append(i)\n",
        "\n",
        "print(f_numbers)\n",
        "\n"
      ],
      "execution_count": 47,
      "outputs": [
        {
          "output_type": "stream",
          "text": [
            "[1, 1, 2, 3, 5, 8, 13, 21, 34, 55]\n"
          ],
          "name": "stdout"
        }
      ]
    }
  ]
}