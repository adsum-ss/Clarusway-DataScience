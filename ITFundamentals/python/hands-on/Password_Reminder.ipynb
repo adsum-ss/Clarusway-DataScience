{
  "nbformat": 4,
  "nbformat_minor": 0,
  "metadata": {
    "colab": {
      "name": "Password Reminder.ipynb",
      "provenance": [],
      "collapsed_sections": []
    },
    "kernelspec": {
      "name": "python3",
      "display_name": "Python 3"
    },
    "language_info": {
      "name": "python"
    }
  },
  "cells": [
    {
      "cell_type": "markdown",
      "metadata": {
        "id": "6JmeyJV9TuWn"
      },
      "source": [
        "**Assignment-009/1 (Password Reminder)**\n",
        "\n",
        "💡**Objectives:**\n",
        "\n",
        "   To improve your conditional algorithm and string operations skills.\n",
        "Write your Python codes on any IDE, push it up to your GitHub repository and submit your GitHub Page link address in addition to your code as a plain text.\n",
        "\n",
        "**Task :** Let's say; you left a message in the past that prints a password you need. To see the password you wrote, you need to enter your name and the program should recognize you.\n",
        "\n",
        "Write a program that \n",
        "\n",
        "1.  Takes the first name from the user and compares it to yours,\n",
        "2. Then if the name the user entered is the same as yours, print out such as : \"Hello, Joseph! The password is : W@12\",\n",
        "3.  If the name the user entered is not the same as yours, print out such as : \"Hello, Amina! See you later.\""
      ]
    },
    {
      "cell_type": "code",
      "metadata": {
        "colab": {
          "base_uri": "https://localhost:8080/"
        },
        "id": "cSym2dMunBhB",
        "outputId": "0abfad8a-58ee-4068-cc8c-50713a15a6a2"
      },
      "source": [
        "name = input(\"Enter your name: \").strip().title()\n",
        "\n",
        "if name == \"Adsum\":\n",
        "  print(\"Hello, Adsum! The password is : W@12\")\n",
        "else:\n",
        "  print(\"Hello, {}! See you later.\".format(name))"
      ],
      "execution_count": null,
      "outputs": [
        {
          "output_type": "stream",
          "text": [
            "Enter your name: ADSUM\n",
            "Hello, Adsum! The password is : W@12\n"
          ],
          "name": "stdout"
        }
      ]
    },
    {
      "cell_type": "code",
      "metadata": {
        "colab": {
          "base_uri": "https://localhost:8080/"
        },
        "id": "w1O_8v_LpBka",
        "outputId": "771663e7-3202-4da1-81b6-391492847e6e"
      },
      "source": [
        "name = input(\"Enter your name: \").strip().title()\n",
        "\n",
        "if name == \"Adsum\":\n",
        "  print(\"Hello, Adsum! The password is : W@12\")\n",
        "else:\n",
        "  print(\"Hello, {}! See you later.\".format(name))"
      ],
      "execution_count": null,
      "outputs": [
        {
          "output_type": "stream",
          "text": [
            "Enter your name: albert\n",
            "Hello, Albert! See you later.\n"
          ],
          "name": "stdout"
        }
      ]
    }
  ]
}