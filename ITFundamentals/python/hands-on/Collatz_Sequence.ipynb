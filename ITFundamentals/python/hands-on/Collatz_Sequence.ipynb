{
  "nbformat": 4,
  "nbformat_minor": 0,
  "metadata": {
    "colab": {
      "name": "Collatz_Sequence.ipynb",
      "provenance": [],
      "collapsed_sections": []
    },
    "kernelspec": {
      "name": "python3",
      "display_name": "Python 3"
    },
    "language_info": {
      "name": "python"
    }
  },
  "cells": [
    {
      "cell_type": "code",
      "metadata": {
        "colab": {
          "base_uri": "https://localhost:8080/"
        },
        "id": "jNxJTb7Ynx4o",
        "outputId": "32aecaa8-682e-4e39-d3b8-071e8278d4e0"
      },
      "source": [
        "# collatz sequence\n",
        "\n",
        "num = int(input(\"Enter a number: \"))\n",
        "collatz_seq = [num]\n",
        "\n",
        "for i in collatz_seq:\n",
        "  if i > 1:\n",
        "    if i % 2 == 0:\n",
        "      collatz_seq.append(i // 2)\n",
        "    else:\n",
        "      collatz_seq.append(i*3 + 1)\n",
        "  else:\n",
        "    break\n",
        "\n",
        "print(collatz_seq)\n",
        "print(len(collatz_seq))"
      ],
      "execution_count": 19,
      "outputs": [
        {
          "output_type": "stream",
          "text": [
            "Enter a number: 13\n",
            "[13, 40, 20, 10, 5, 16, 8, 4, 2, 1]\n",
            "10\n"
          ],
          "name": "stdout"
        }
      ]
    },
    {
      "cell_type": "code",
      "metadata": {
        "colab": {
          "base_uri": "https://localhost:8080/"
        },
        "id": "m0cZ4AjD1K9k",
        "outputId": "9755fcff-53d4-4adc-bb8a-6a01b80dab86"
      },
      "source": [
        "def collatz(num):\n",
        "    collatz_seq = [num]\n",
        "    while True:\n",
        "        if num % 2:\n",
        "           num = 3 * num + 1\n",
        "        else:\n",
        "           num = num // 2\n",
        "        collatz_seq.append(num)\n",
        "        if num == 1:\n",
        "           break\n",
        "    return collatz_seq\n",
        "  \n",
        "collatz(15)"
      ],
      "execution_count": 24,
      "outputs": [
        {
          "output_type": "execute_result",
          "data": {
            "text/plain": [
              "[15, 46, 23, 70, 35, 106, 53, 160, 80, 40, 20, 10, 5, 16, 8, 4, 2, 1]"
            ]
          },
          "metadata": {
            "tags": []
          },
          "execution_count": 24
        }
      ]
    },
    {
      "cell_type": "code",
      "metadata": {
        "colab": {
          "base_uri": "https://localhost:8080/"
        },
        "id": "6fbMuPFj1f0V",
        "outputId": "b1a38c1f-2322-47f1-8218-099c042f0f2c"
      },
      "source": [
        "def collatz(ni):\n",
        "  list_ni =[ni, ]\n",
        "  while ni != 1 :\n",
        "    if ni%2 == 0 :\n",
        "      ni = ni/2\n",
        "      list_ni.append(ni)\n",
        "    elif ni%2 == 1:\n",
        "      ni = 3*ni +1\n",
        "      list_ni.append(ni)\n",
        "  return len(list_ni)\n",
        "collatz(13)"
      ],
      "execution_count": 14,
      "outputs": [
        {
          "output_type": "execute_result",
          "data": {
            "text/plain": [
              "10"
            ]
          },
          "metadata": {
            "tags": []
          },
          "execution_count": 14
        }
      ]
    }
  ]
}