{
  "nbformat": 4,
  "nbformat_minor": 0,
  "metadata": {
    "colab": {
      "name": "Covid-19 Risk.ipynb",
      "provenance": [],
      "collapsed_sections": []
    },
    "kernelspec": {
      "name": "python3",
      "display_name": "Python 3"
    },
    "language_info": {
      "name": "python"
    }
  },
  "cells": [
    {
      "cell_type": "markdown",
      "metadata": {
        "id": "JQuSpFWqZnRU"
      },
      "source": [
        "**Assignment-009/2 (Covid-19 Risk)**\n",
        "\n",
        "💡**Objective:**\n",
        "\n",
        "> To improve your boolean logic and setting condition algorithm skills and to raise your awareness of coronavirus.\n",
        "\n",
        "\n",
        "Write your Python codes on any IDE, push it up to your GitHub repository and submit your GitHub Page link address in addition to your code as a plain text.\n",
        "\n",
        "**Problem :**\n",
        "\n",
        "**Task :** Estimating the risk of death from coronavirus. Write a program that;\n",
        "\n",
        "** Takes \"Yes\" or \"No\" from the user as an answer to the following questions :\n",
        "\n",
        "> 1.Are you a cigarette addict older than 75 years old? Variable → age\n",
        "\n",
        "> 2.Do you have a severe chronic disease? Variable → chronic\n",
        "\n",
        "> 3.Is your immune system too weak? Variable → immune\n",
        "\n",
        "** Set a logical algorithm using boolean logic operators (and/or) and use if-statements with the given variables in order to print out us a message : \"You are in risky group\"(if True ) or \"You are not in risky group\" (if False).\n",
        "\n",
        "```\n",
        "age =  # can be assigned only True/False\n",
        "chronic =  # can be assigned only True/False\n",
        "immune =  # can be assigned only True/False\n",
        "risk = ?\n",
        "```"
      ]
    },
    {
      "cell_type": "code",
      "metadata": {
        "colab": {
          "base_uri": "https://localhost:8080/"
        },
        "id": "F_V2wQqKZmp8",
        "outputId": "021efec7-2d6f-4b58-fa72-8f20db43b1f1"
      },
      "source": [
        "age = input(\"Are you a cigarette addict older than 75 years old? (Yes/No): \").strip().title() == \"Yes\"\n",
        "chronic = input(\"Do you have a severe chronic disease? (Yes/No): \").strip().title() == \"Yes\"\n",
        "immune = input(\"Is your immune system too weak? (Yes/No): \").strip().title() == \"Yes\"\n",
        "\n",
        "if age or chronic or immune:\n",
        "  print(\"You are in risky group\")\n",
        "else:\n",
        "  print(\"You are not in risky group\")"
      ],
      "execution_count": null,
      "outputs": [
        {
          "output_type": "stream",
          "text": [
            "Are you a cigarette addict older than 75 years old? (Yes/No): no\n",
            "Do you have a severe chronic disease? (Yes/No): no\n",
            "Is your immune system too weak? (Yes/No): no\n",
            "You are not in risky group\n"
          ],
          "name": "stdout"
        }
      ]
    },
    {
      "cell_type": "code",
      "metadata": {
        "colab": {
          "base_uri": "https://localhost:8080/"
        },
        "id": "Ri-rOlbLg6LC",
        "outputId": "433e439a-e60c-462e-9d04-113661aedfb4"
      },
      "source": [
        "age = input(\"Are you a cigarette addict older than 75 years old? (Yes/No): \").strip().title() == \"Yes\"\n",
        "chronic = input(\"Do you have a severe chronic disease? (Yes/No): \").strip().title() == \"Yes\"\n",
        "immune = input(\"Is your immune system too weak? (Yes/No): \").strip().title() == \"Yes\"\n",
        "\n",
        "if age or chronic or immune:\n",
        "  print(\"You are in risky group\")\n",
        "else:\n",
        "  print(\"You are not in risky group\")"
      ],
      "execution_count": null,
      "outputs": [
        {
          "output_type": "stream",
          "text": [
            "Are you a cigarette addict older than 75 years old? (Yes/No): NO\n",
            "Do you have a severe chronic disease? (Yes/No): NO\n",
            "Is your immune system too weak? (Yes/No): YES\n",
            "You are in risky group\n"
          ],
          "name": "stdout"
        }
      ]
    }
  ]
}