{
  "nbformat": 4,
  "nbformat_minor": 0,
  "metadata": {
    "colab": {
      "name": "pascal's_triangle.ipynb",
      "provenance": [],
      "collapsed_sections": []
    },
    "kernelspec": {
      "name": "python3",
      "display_name": "Python 3"
    },
    "language_info": {
      "name": "python"
    }
  },
  "cells": [
    {
      "cell_type": "code",
      "metadata": {
        "colab": {
          "base_uri": "https://localhost:8080/"
        },
        "id": "NVfJOKk-W_CM",
        "outputId": "b1de367e-e827-4b63-d51d-0997997b3490"
      },
      "source": [
        "n = int(input(\"Enter the number: \"))\n",
        "a = [] #an empty list\n",
        "for i in range(n):\n",
        "  a.append([])\n",
        "  a[i].append(1)\n",
        "\n",
        "  for j in range(1, i):\n",
        "    a[i].append(a[i - 1][j - 1] + a[i - 1][j])\n",
        "  \n",
        "  if(n != 0) and (i != 0):\n",
        "    a[i].append(1)\n",
        "\n",
        "print(a[n-1])\n",
        "print(a)"
      ],
      "execution_count": null,
      "outputs": [
        {
          "output_type": "stream",
          "text": [
            "Enter the number: 7\n",
            "[1, 6, 15, 20, 15, 6, 1]\n",
            "[[1], [1, 1], [1, 2, 1], [1, 3, 3, 1], [1, 4, 6, 4, 1], [1, 5, 10, 10, 5, 1], [1, 6, 15, 20, 15, 6, 1]]\n"
          ],
          "name": "stdout"
        }
      ]
    },
    {
      "cell_type": "code",
      "metadata": {
        "colab": {
          "base_uri": "https://localhost:8080/"
        },
        "id": "WiKe3rrIAVJ2",
        "outputId": "c698e44d-8280-4ebc-ec4f-32771c01502c"
      },
      "source": [
        "number = int(input(\"enter number of lines: \"))\n",
        "liste = []\n",
        "\n",
        "for i in range(number):\n",
        "  if number > 0:\n",
        "    liste.append([])\n",
        "    liste[i].append(1)\n",
        "\n",
        "  if i > 1:\n",
        "    for x in range(1, i):\n",
        "      liste[i].append(liste[i-1][x-1] + liste[i-1][x])\n",
        "\n",
        "  if i > 0:\n",
        "    liste[-1].append(1)\n",
        "\n",
        "print(liste[number-1])\n",
        "print(liste)"
      ],
      "execution_count": 1,
      "outputs": [
        {
          "output_type": "stream",
          "text": [
            "enter number of lines: 7\n",
            "[1, 6, 15, 20, 15, 6, 1]\n",
            "[[1], [1, 1], [1, 2, 1], [1, 3, 3, 1], [1, 4, 6, 4, 1], [1, 5, 10, 10, 5, 1], [1, 6, 15, 20, 15, 6, 1]]\n"
          ],
          "name": "stdout"
        }
      ]
    }
  ]
}