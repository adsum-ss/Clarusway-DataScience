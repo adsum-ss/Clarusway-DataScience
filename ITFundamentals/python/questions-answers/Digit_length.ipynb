{
  "nbformat": 4,
  "nbformat_minor": 0,
  "metadata": {
    "colab": {
      "name": "Digit_length.ipynb",
      "provenance": [],
      "collapsed_sections": []
    },
    "kernelspec": {
      "name": "python3",
      "display_name": "Python 3"
    },
    "language_info": {
      "name": "python"
    }
  },
  "cells": [
    {
      "cell_type": "code",
      "metadata": {
        "colab": {
          "base_uri": "https://localhost:8080/"
        },
        "id": "NqS_DMkhnOn2",
        "outputId": "b4891ae1-df21-4f2e-95b1-82ada6383859"
      },
      "source": [
        "#  Imagine you took all the numbers between 0 and n and concatenated them together into a long string. \n",
        "#  How many digits are there between 0 and n? Write a function that can calculate this.\n",
        "#  There are 0 digits between 0 and 1, there are 9 digits between 0 and 10 and there are 189 digits between 0 and 100.\n",
        "\n",
        "def number(n):\n",
        "  total_digits = 0\n",
        "  for i in range(1, n):\n",
        "    total_digits += len(str(i))\n",
        "  return total_digits\n",
        "number(2020)"
      ],
      "execution_count": 173,
      "outputs": [
        {
          "output_type": "execute_result",
          "data": {
            "text/plain": [
              "6969"
            ]
          },
          "metadata": {
            "tags": []
          },
          "execution_count": 173
        }
      ]
    }
  ]
}