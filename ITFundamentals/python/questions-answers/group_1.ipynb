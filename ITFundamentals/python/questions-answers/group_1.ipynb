{
  "nbformat": 4,
  "nbformat_minor": 0,
  "metadata": {
    "colab": {
      "name": "group_1.ipynb",
      "provenance": []
    },
    "kernelspec": {
      "name": "python3",
      "display_name": "Python 3"
    },
    "language_info": {
      "name": "python"
    }
  },
  "cells": [
    {
      "cell_type": "markdown",
      "metadata": {
        "id": "r9B45NdlOz1t"
      },
      "source": [
        "```\n",
        "1 Sansürlü kelimeyi düzeltelim\n",
        "print(sansür(\"pyth*n\", \"o\")) ---> python\n",
        "print(sansür(\"*r*b*m* p*rk *tt*m\",\"aaaıaei\"))  --> arabamı park ettim\n",
        "```\n",
        "\n"
      ]
    },
    {
      "cell_type": "code",
      "metadata": {
        "colab": {
          "base_uri": "https://localhost:8080/"
        },
        "id": "gBkdQM9msYwx",
        "outputId": "c99b1a44-7dd3-4646-ca77-f01f7dd61b0c"
      },
      "source": [
        "def sansür(sansürlü, sesli):\n",
        "  n = 0\n",
        "  for i in sansürlü:\n",
        "    if i == \"*\":\n",
        "      sansürlü = sansürlü.replace(\"*\", sesli[n], 1)\n",
        "      n += 1\n",
        "  return sansürlü\n",
        "print(sansür(\"pyth*n\", \"o\"))\n",
        "print(sansür(\"*r*b*m* p*rk *tt*m\",\"aaaıaei\"))"
      ],
      "execution_count": 227,
      "outputs": [
        {
          "output_type": "stream",
          "text": [
            "python\n",
            "arabamı park ettim\n"
          ],
          "name": "stdout"
        }
      ]
    },
    {
      "cell_type": "markdown",
      "metadata": {
        "id": "Q5AiEAoiPHH-"
      },
      "source": [
        "```\n",
        "2. Girdisi string olan ifadenin içerisindeki harflerin türkçe alfabesindeki yerlerini bulup, hepsinin değerlerini toplayıp sonuç çiftse True tekse False yazdıran bir fonksiyon yazınız.\n",
        "print(kelime_cift_mi(\"Bilgisayar\")) -->True\n",
        "```\n",
        "\n"
      ]
    },
    {
      "cell_type": "code",
      "metadata": {
        "colab": {
          "base_uri": "https://localhost:8080/"
        },
        "id": "Qe4uOsipmT2O",
        "outputId": "ba407766-512e-4510-83b5-6cf1c3970abe"
      },
      "source": [
        "alfabe = \" abcçdefgğhıijklmnoöprsştuüvyzABCÇDEFGĞHIİJKLMNOÖPRSŞTUÜVYZ\"\n",
        "\n",
        "def kelime_cift_mi(metin):\n",
        "  \n",
        "  total = 0\n",
        "  for i in metin:\n",
        "    yer = alfabe.index(i)\n",
        "    total += yer\n",
        "  \n",
        "  if total % 2 == 0:\n",
        "    return True\n",
        "  else:\n",
        "    return False\n",
        "\n",
        "(kelime_cift_mi(\"Bilgisyar\"))"
      ],
      "execution_count": 225,
      "outputs": [
        {
          "output_type": "execute_result",
          "data": {
            "text/plain": [
              "True"
            ]
          },
          "metadata": {
            "tags": []
          },
          "execution_count": 225
        }
      ]
    },
    {
      "cell_type": "code",
      "metadata": {
        "colab": {
          "base_uri": "https://localhost:8080/"
        },
        "id": "z03Sp5yvo2Hp",
        "outputId": "69c83c4f-ec9c-47c3-d27b-7cf29873523d"
      },
      "source": [
        "def kelime_cift_mi(cümle):\n",
        "  kucuk = \"abcçdefgğhıijklmnoöprsştuüvyz\"\n",
        "  toplam = 0\n",
        "  for i in cümle.lower(): \n",
        "    if i in kucuk:\n",
        "      toplam += kucuk.index(i)+1\n",
        "  if toplam % 2 == 0:\n",
        "    return True\n",
        "  else:\n",
        "    return False\n",
        "(kelime_cift_mi(\"Bilgisayar\"))"
      ],
      "execution_count": 199,
      "outputs": [
        {
          "output_type": "execute_result",
          "data": {
            "text/plain": [
              "True"
            ]
          },
          "metadata": {
            "tags": []
          },
          "execution_count": 199
        }
      ]
    },
    {
      "cell_type": "markdown",
      "metadata": {
        "id": "yUnkroayPGvn"
      },
      "source": [
        "\n",
        "```\n",
        " 3. Write a program to prompt the user for hours and rate per hour using input to compute gross pay. Pay should be the normal rate for hours up to 40 and time-and-a-half for the hourly rate for all hours worked above 40 hours. Put the logic to do the computation of pay in a function called computepay() and use the function to do the computation. The function should return a value. Use 45 hours and a rate of 10.50 per hour to test the program (the pay should be 498.75). You should use input to read a string and float() to convert the string to a number. Do not worry about error checking the user input unless you want to - you can assume the user types numbers properly. Do not name your variable sum or use the sum() function\n",
        "\n",
        "```\n",
        "\n"
      ]
    },
    {
      "cell_type": "code",
      "metadata": {
        "colab": {
          "base_uri": "https://localhost:8080/"
        },
        "id": "Nb44B8ogmUX4",
        "outputId": "4f18d882-184c-4d20-87c2-dc133d5ba895"
      },
      "source": [
        "def compute_pay(h, r):\n",
        "  if h > 40:\n",
        "    p = 40*r + (h-40) * r *1.5\n",
        "  else:\n",
        "    p = h*r\n",
        "  return p \n",
        "compute_pay(45, 2)"
      ],
      "execution_count": 183,
      "outputs": [
        {
          "output_type": "execute_result",
          "data": {
            "text/plain": [
              "95.0"
            ]
          },
          "metadata": {
            "tags": []
          },
          "execution_count": 183
        }
      ]
    },
    {
      "cell_type": "markdown",
      "metadata": {
        "id": "agUSmN0iPGqB"
      },
      "source": [
        "```\n",
        "4. Sayının faktöriyelini hesaplayan fonksiyon yazalım.\n",
        "```\n",
        "\n",
        "\n"
      ]
    },
    {
      "cell_type": "code",
      "metadata": {
        "colab": {
          "base_uri": "https://localhost:8080/"
        },
        "id": "UQnkYKHRspNj",
        "outputId": "88fffa9f-6a46-413c-d0e1-a35bd922df6e"
      },
      "source": [
        "total = 1\n",
        "\n",
        "def number(num):\n",
        "  global total\n",
        "  for i in range(1, num):\n",
        "    result = total * (i+1)\n",
        "    total = result\n",
        "  return total\n",
        "\n",
        "number(7)\n"
      ],
      "execution_count": 16,
      "outputs": [
        {
          "output_type": "execute_result",
          "data": {
            "text/plain": [
              "5040"
            ]
          },
          "metadata": {
            "tags": []
          },
          "execution_count": 16
        }
      ]
    },
    {
      "cell_type": "code",
      "metadata": {
        "colab": {
          "base_uri": "https://localhost:8080/"
        },
        "id": "Ukekf00Ysv0k",
        "outputId": "9a3704d4-a09f-4891-8ab9-817a09afdfcd"
      },
      "source": [
        "def factoriel(sayi):\n",
        "  sonuc = 1\n",
        "  i = 1\n",
        "  while i < sayi + 1:\n",
        "    sonuc *= i\n",
        "    i += 1\n",
        "  return sonuc\n",
        "factoriel(7)"
      ],
      "execution_count": 187,
      "outputs": [
        {
          "output_type": "execute_result",
          "data": {
            "text/plain": [
              "5040"
            ]
          },
          "metadata": {
            "tags": []
          },
          "execution_count": 187
        }
      ]
    },
    {
      "cell_type": "markdown",
      "metadata": {
        "id": "tPWXxyrEPGmw"
      },
      "source": [
        "```\n",
        "5. Sayı ve string paramestresi alan, sayıyı geriye doğru aralarında * olacak şekilde yazdıran, sonuna verilen stringi büyük harflerle ekleyen ve en sona ! işareti koyan bir fonksiyon yazalım\n",
        " ÖRNEK\n",
        "geri_say(3,\"go\")--> \"3*2*1*GO!\"**kalın metin**\n",
        "```\n",
        "\n"
      ]
    },
    {
      "cell_type": "code",
      "metadata": {
        "colab": {
          "base_uri": "https://localhost:8080/"
        },
        "id": "lRyKIZiCzrle",
        "outputId": "2d83313c-5a4c-48a0-bae4-8982e62b2986"
      },
      "source": [
        "def geri_say(num, text):\n",
        "  liste = []\n",
        "  for item in range(1, num+1):\n",
        "    liste.append(item)\n",
        "  for i in liste[::-1]:\n",
        "    print(i, end=\"*\")\n",
        "  print(text.upper(), end=\"!\")\n",
        "\n",
        "geri_say(15, \"go\")"
      ],
      "execution_count": 191,
      "outputs": [
        {
          "output_type": "stream",
          "text": [
            "15*14*13*12*11*10*9*8*7*6*5*4*3*2*1*GO!"
          ],
          "name": "stdout"
        }
      ]
    },
    {
      "cell_type": "code",
      "metadata": {
        "colab": {
          "base_uri": "https://localhost:8080/",
          "height": 35
        },
        "id": "ax1mSQrkub_r",
        "outputId": "30134e9a-f3eb-4a40-c52a-88735943016b"
      },
      "source": [
        "def geri_say(n, yazi):\n",
        "  sonuc = \"\"\n",
        "  for i in range(n, 0, -1):\n",
        "    sonuc += str(i) + \"*\"\n",
        "  sonuc += yazi.upper() + \"!\"\n",
        "  return sonuc\n",
        "geri_say(15, \"go\")"
      ],
      "execution_count": 195,
      "outputs": [
        {
          "output_type": "execute_result",
          "data": {
            "application/vnd.google.colaboratory.intrinsic+json": {
              "type": "string"
            },
            "text/plain": [
              "'15*14*13*12*11*10*9*8*7*6*5*4*3*2*1*GO!'"
            ]
          },
          "metadata": {
            "tags": []
          },
          "execution_count": 195
        }
      ]
    },
    {
      "cell_type": "markdown",
      "metadata": {
        "id": "X0np6sCFPGjA"
      },
      "source": [
        "```\n",
        "6. Arif ve Raife listede yanyana duruyorlasa True döndüren durmuyorlarsa False döndüren bir fonksiyon yazalım.\n",
        "print(yan_yana_mı([\"Arif\",\"Raife\",\"Nihal\"])) --> True\n",
        "print(yan_yana_mı([\"Arif\",\"Nihal\",\"Raife\"])) --> False\n",
        "```\n",
        "\n"
      ]
    },
    {
      "cell_type": "code",
      "metadata": {
        "colab": {
          "base_uri": "https://localhost:8080/"
        },
        "id": "kmcpfrwhvES_",
        "outputId": "4a5dc7c3-04d9-4298-bd2c-612cd79c65b9"
      },
      "source": [
        "def yan_yana_mı(liste):\n",
        "  for i in liste:\n",
        "    if liste.index(\"Arif\") +1 == liste.index(\"Raife\") or liste.index(\"Arif\") == liste.index(\"Raife\") + 1:\n",
        "      return True\n",
        "    else:\n",
        "      return False\n",
        "\n",
        "print(yan_yana_mı([\"Arif\",\"Raife\",\"Nihal\"]))\n",
        "print(yan_yana_mı([\"Arif\",\"Nihal\",\"Raife\"]))"
      ],
      "execution_count": 193,
      "outputs": [
        {
          "output_type": "stream",
          "text": [
            "True\n",
            "False\n"
          ],
          "name": "stdout"
        }
      ]
    },
    {
      "cell_type": "markdown",
      "metadata": {
        "id": "o8RAQ9ZpPGcN"
      },
      "source": [
        "```\n",
        "7. Listedeki her elemanı kendi indexi ile çarpıp toplamı veren bir fonksiyon yazalım.\n",
        "print(carpip_topla([1,2,3,4,5,6,7,8,9,10])) --> 330\n",
        "```\n",
        "\n",
        "\n",
        "\n"
      ]
    },
    {
      "cell_type": "code",
      "metadata": {
        "colab": {
          "base_uri": "https://localhost:8080/"
        },
        "id": "n711cIsQL2ec",
        "outputId": "4fa42ec6-3804-4ae8-d19d-118343802c18"
      },
      "source": [
        "liste = [8, 25, 3, 10, 7, 1, 2]\n",
        "total = 0\n",
        "for i in liste:\n",
        "\ttotal += i*liste.index(i)  # yanlış yöntem, sayı unique değilse yani birden fazla aynı sayıdan varsa sadece ilkini alır, sonuncusuna 0 değeri verir\n",
        "\n",
        "print(total)"
      ],
      "execution_count": 104,
      "outputs": [
        {
          "output_type": "stream",
          "text": [
            "106\n"
          ],
          "name": "stdout"
        }
      ]
    },
    {
      "cell_type": "code",
      "metadata": {
        "colab": {
          "base_uri": "https://localhost:8080/"
        },
        "id": "_0OoLgZGOe47",
        "outputId": "0cbb3400-9e43-4cb0-9e1f-9394948dc0e5"
      },
      "source": [
        "def carpip_topla(liste):\n",
        " \n",
        "  total = 0\n",
        "\n",
        "  for i in liste:\n",
        "    total += i*liste.index(i)  # yanlış yöntem, sayı unique değilse yani birden fazla aynı sayıdan varsa sadece ilkini alır, sonuncusuna 0 değeri verir\n",
        "  return total\n",
        "\n",
        "print(carpip_topla([1,2,3,4,5,6,6,8,9,10]))  "
      ],
      "execution_count": 204,
      "outputs": [
        {
          "output_type": "stream",
          "text": [
            "318\n"
          ],
          "name": "stdout"
        }
      ]
    },
    {
      "cell_type": "code",
      "metadata": {
        "colab": {
          "base_uri": "https://localhost:8080/"
        },
        "id": "1fHaRlOMxKPW",
        "outputId": "38611cc0-edc7-4944-c013-3e4ec995f0d4"
      },
      "source": [
        "def carpip_topla(liste):\n",
        "  toplam=0\n",
        "  for i in range(len(liste)):\n",
        "    toplam += i * liste[i]\n",
        "  return toplam\n",
        "print(carpip_topla([1,2,3,4,5,6,6,8,9,10]))"
      ],
      "execution_count": 203,
      "outputs": [
        {
          "output_type": "stream",
          "text": [
            "324\n"
          ],
          "name": "stdout"
        }
      ]
    },
    {
      "cell_type": "markdown",
      "metadata": {
        "id": "6eFw-Cy2PGYg"
      },
      "source": [
        "```\n",
        "8. Cümledeki sayı ve harflerin sayısını bulan bir fonksiyon yazalım\n",
        "print(harf_sayi_sayisi(\"10'a kadar saysam ve sonrasında hayat bayram olsa.\")) --> Harfler: 39, Sayılar: 2\n",
        "\n",
        "```\n",
        "\n",
        "\n"
      ]
    },
    {
      "cell_type": "code",
      "metadata": {
        "colab": {
          "base_uri": "https://localhost:8080/"
        },
        "id": "--YPh5crYp1Y",
        "outputId": "2f7983c4-7c56-41bc-f0ac-3fe24b4bb0a1"
      },
      "source": [
        "def harf_sayi_sayisi(text):\n",
        "\n",
        "  letters = 0\n",
        "  numbers = 0\n",
        "\n",
        "  for i in text:\n",
        "    if i.isalpha():\n",
        "      letters += 1\n",
        "  \n",
        "    elif i.isnumeric():\n",
        "      numbers += 1\n",
        "\n",
        "  print(\"Harfler:\", letters, end=\", \")    \n",
        "  print(\"Sayılar:\", numbers)\n",
        "\n",
        "harf_sayi_sayisi(\"10'a kadar saysam ve sonrasında hayat bayram olsa.\")"
      ],
      "execution_count": 136,
      "outputs": [
        {
          "output_type": "stream",
          "text": [
            "Harfler: 39, Sayılar: 2\n"
          ],
          "name": "stdout"
        }
      ]
    },
    {
      "cell_type": "code",
      "metadata": {
        "colab": {
          "base_uri": "https://localhost:8080/",
          "height": 35
        },
        "id": "t-Jaui4ny0mU",
        "outputId": "0ef1ef0c-53c1-434a-a09e-cae02275a2d5"
      },
      "source": [
        "def harf_sayi_sayisi(text):\n",
        "\n",
        "  letters = 0\n",
        "  numbers = 0\n",
        "\n",
        "  for i in text:\n",
        "    if i.isalpha():\n",
        "      letters += 1\n",
        "  \n",
        "    elif i.isnumeric():\n",
        "      numbers += 1\n",
        "\n",
        "  return f'Harfler: {letters}, Sayılar {numbers}'\n",
        "\n",
        "harf_sayi_sayisi(\"10'a kadar saysam ve sonrasında hayat bayram olsa.\")"
      ],
      "execution_count": 215,
      "outputs": [
        {
          "output_type": "execute_result",
          "data": {
            "application/vnd.google.colaboratory.intrinsic+json": {
              "type": "string"
            },
            "text/plain": [
              "'Harfler: 39, Sayılar 2'"
            ]
          },
          "metadata": {
            "tags": []
          },
          "execution_count": 215
        }
      ]
    },
    {
      "cell_type": "code",
      "metadata": {
        "colab": {
          "base_uri": "https://localhost:8080/"
        },
        "id": "-xzCk-oDzukS",
        "outputId": "6b07a034-8418-4ea0-852e-4b742df4d24c"
      },
      "source": [
        "print(harf_sayi_sayisi(\"10'a kadar saysam ve sonrasında hayat bayram olsa.\"))"
      ],
      "execution_count": 214,
      "outputs": [
        {
          "output_type": "stream",
          "text": [
            "Harfler: 39, Sayılar 2\n"
          ],
          "name": "stdout"
        }
      ]
    },
    {
      "cell_type": "markdown",
      "metadata": {
        "id": "txt134wgPGVZ"
      },
      "source": [
        "```\n",
        "9.Stringin içindeki en büyük ve en küçük sayıyı veren fonksiyon yazalım.\n",
        "print(büyük_kücük(\"3 2 4 6 -1 12\")) --> 12 -1\n",
        "```\n",
        "\n"
      ]
    },
    {
      "cell_type": "code",
      "metadata": {
        "colab": {
          "base_uri": "https://localhost:8080/"
        },
        "id": "NTgBPUd9zYZZ",
        "outputId": "f78c746e-a290-42d0-8314-5613b3011b22"
      },
      "source": [
        "def buyuk_kucuk(deger):\n",
        "  liste = list(map(int, deger.split()))\n",
        "  return f'{max(liste)} {min(liste)}'\n",
        "\n",
        "print(buyuk_kucuk(\"3 2 4 6 -1 12\"))"
      ],
      "execution_count": 217,
      "outputs": [
        {
          "output_type": "stream",
          "text": [
            "12 -1\n"
          ],
          "name": "stdout"
        }
      ]
    },
    {
      "cell_type": "code",
      "metadata": {
        "colab": {
          "base_uri": "https://localhost:8080/"
        },
        "id": "-4mxlpuHR8xP",
        "outputId": "a459a359-5e51-4236-aed6-3d495ef07a9c"
      },
      "source": [
        "def büyük_kücük(num):\n",
        "  liste = num.split(\" \")\n",
        "  liste2 = []\n",
        "  liste3 = \"\"\n",
        "\n",
        "  for i in num:\n",
        "    if i.isnumeric:\n",
        "      liste2.append(i)\n",
        "      for d in liste:\n",
        "        liste3 = liste3 + d\n",
        " \n",
        "  return liste3\n",
        "\n",
        "print(büyük_kücük(\"3 2 4 6 -1 12\"))\n"
      ],
      "execution_count": 164,
      "outputs": [
        {
          "output_type": "stream",
          "text": [
            "3246-1123246-1123246-1123246-1123246-1123246-1123246-1123246-1123246-1123246-1123246-1123246-1123246-112\n"
          ],
          "name": "stdout"
        }
      ]
    },
    {
      "cell_type": "code",
      "metadata": {
        "colab": {
          "base_uri": "https://localhost:8080/"
        },
        "id": "9hlG4JiKeb3l",
        "outputId": "8654077a-44a2-443f-ed0c-a41fcc115170"
      },
      "source": [
        "text = \"1 8 16 22 4\"\n",
        "liste = text.split()\n",
        "\n",
        "for i in liste:\n",
        "  i = int(i)\n",
        "\n",
        "print(liste)\n",
        "\n",
        "a = max(liste)\n",
        "print(a)"
      ],
      "execution_count": 148,
      "outputs": [
        {
          "output_type": "stream",
          "text": [
            "['1', '8', '16', '22', '4']\n",
            "8\n"
          ],
          "name": "stdout"
        }
      ]
    },
    {
      "cell_type": "markdown",
      "metadata": {
        "id": "RhGJCDaNPGIS"
      },
      "source": [
        "```\n",
        "10. Harfler ve boşluklardan oluşan stringin içindeki kelime nin uzunluğu beş veya dah fazla ise o kelimeyi ters çeviren bir fonksiyon yazalım.\n",
        "print(ters_döndür(\"Ah bir data scientist olabilsem:)\")) --> Ah bir data tsitneics ):meslibalo\n",
        "```\n",
        "\n"
      ]
    },
    {
      "cell_type": "code",
      "metadata": {
        "colab": {
          "base_uri": "https://localhost:8080/"
        },
        "id": "1iqqtEOmWp4L",
        "outputId": "23464434-7f42-431b-ef2d-c3296ec6c1b2"
      },
      "source": [
        "def ters_döndür(yazı):\n",
        "  liste = yazı.split()\n",
        "  yeni = \"\"\n",
        "  for i in liste:\n",
        "    if len(i) >= 5:\n",
        "      yeni += i[::-1] + \" \"\n",
        "    else:\n",
        "      yeni += i + \" \"\n",
        "  return yeni.strip()\n",
        "\n",
        "print(ters_döndür(\"Ah bir data scientist olabilsem:)\"))"
      ],
      "execution_count": 224,
      "outputs": [
        {
          "output_type": "stream",
          "text": [
            "Ah bir data tsitneics ):meslibalo\n"
          ],
          "name": "stdout"
        }
      ]
    }
  ]
}