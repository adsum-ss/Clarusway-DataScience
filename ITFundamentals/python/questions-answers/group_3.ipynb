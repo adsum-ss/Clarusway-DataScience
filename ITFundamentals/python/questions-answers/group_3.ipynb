{
  "nbformat": 4,
  "nbformat_minor": 0,
  "metadata": {
    "colab": {
      "name": "group_3.ipynb",
      "provenance": [],
      "collapsed_sections": []
    },
    "kernelspec": {
      "name": "python3",
      "display_name": "Python 3"
    },
    "language_info": {
      "name": "python"
    }
  },
  "cells": [
    {
      "cell_type": "markdown",
      "metadata": {
        "id": "tekgbGbYLTZn"
      },
      "source": [
        "1-Bir stringde eğer en az iki kere 'zip' geçiyorsa ikinci kez geçen zip in indexini döndüren, eğer en az iki kere geçmiyorsa -1 döndüren fonksiyon yazalım."
      ]
    },
    {
      "cell_type": "code",
      "metadata": {
        "colab": {
          "base_uri": "https://localhost:8080/"
        },
        "id": "601oKIqcqWRd",
        "outputId": "c756821e-a043-4d22-f7aa-93b03c87544f"
      },
      "source": [
        "def pos_zip(string):\n",
        "  return string.replace(\"zip\", \"ZİP\", 1).find(\"zip\")\n",
        "\n",
        "print(pos_zip(\"askzipkfmlzipkwooozipoooerzip\"))\n",
        "print(pos_zip(\"askzipk fmlzipkwoo ozipooo enzip\"))\n",
        "print(pos_zip(\"askzipkfmlzikwooozpoooenip\"))"
      ],
      "execution_count": 94,
      "outputs": [
        {
          "output_type": "stream",
          "text": [
            "10\n",
            "11\n",
            "-1\n"
          ],
          "name": "stdout"
        }
      ]
    },
    {
      "cell_type": "markdown",
      "metadata": {
        "id": "Wdk2I2HvNPbA"
      },
      "source": [
        "```\n",
        "2. liste ve boolean alan, \"Ping\"lerin arasına \"Pong\" yazan, boolean True ise sona da koyan False varsa sonuna koymayan bir fonksiyon yazalım\n",
        "print(yerlestir([\"Ping\",\"Ping\"],True)) -->['Ping', 'Pong', 'Ping', 'Pong']\n",
        "print(yerlestir([\"Ping\",\"Ping\",\"Ping\",\"Ping\",\"Ping\",\"Ping\"],False)) -->['Ping', 'Pong', 'Ping', 'Pong', 'Ping', 'Pong', 'Ping', 'Pong', 'Ping', 'Pong', 'Ping']\n",
        "```"
      ]
    },
    {
      "cell_type": "code",
      "metadata": {
        "colab": {
          "base_uri": "https://localhost:8080/"
        },
        "id": "ylOKiDkMqgdQ",
        "outputId": "c8c7cf6e-9c8f-4508-d187-f7773d21c5a0"
      },
      "source": [
        "def yerlestir(liste, boolean):\n",
        "  x, y = (liste, boolean)\n",
        "  for i in range(1, len(x) + 2, 2):\n",
        "    x.insert(i, \"Pong\")\n",
        "\n",
        "  if y == False:\n",
        "    x.pop()\n",
        "\n",
        "  return x\n",
        "\n",
        "print(yerlestir([\"Ping\",\"Ping\"],True))\n",
        "print(yerlestir([\"Ping\",\"Ping\",\"Ping\",\"Ping\",\"Ping\",\"Ping\"],False))"
      ],
      "execution_count": 95,
      "outputs": [
        {
          "output_type": "stream",
          "text": [
            "['Ping', 'Pong', 'Ping', 'Pong']\n",
            "['Ping', 'Pong', 'Ping', 'Pong', 'Ping', 'Pong', 'Ping', 'Pong', 'Ping']\n"
          ],
          "name": "stdout"
        }
      ]
    },
    {
      "cell_type": "markdown",
      "metadata": {
        "id": "OF0rVsBJNRVm"
      },
      "source": [
        "```\n",
        "3. Sayının eklemeli devamlılığını bulan fonksiyon yazalım\n",
        "\n",
        "eklemeli_devamlılık(1679583)\n",
        "\n",
        "1+6+7+9+5+8+3=39\n",
        "\n",
        "3+9=12\n",
        "\n",
        "1+2=3\n",
        "\n",
        "Tek basamaklı sayıya ulaşmak için 3 tekrar gerekiyor\n",
        "```"
      ]
    },
    {
      "cell_type": "code",
      "metadata": {
        "id": "9wxgaUySOdFv",
        "colab": {
          "base_uri": "https://localhost:8080/"
        },
        "outputId": "b190c155-a274-4f8b-c3ce-27263aef569e"
      },
      "source": [
        "def eklemeli_devamlılık(sayı):\n",
        "  sayı_listesi = [int(i) for i in str(sayı)]\n",
        "  total = sum(sayı_listesi)\n",
        "  print(total)\n",
        "\n",
        "  while len(str(total)) > 1:\n",
        "    total = sum([int(y) for y in str(total)]) \n",
        "    print(total)\n",
        "\n",
        "eklemeli_devamlılık(1679583)"
      ],
      "execution_count": null,
      "outputs": [
        {
          "output_type": "stream",
          "text": [
            "39\n",
            "12\n",
            "3\n"
          ],
          "name": "stdout"
        }
      ]
    },
    {
      "cell_type": "markdown",
      "metadata": {
        "id": "C0bzI8cTO3Wh"
      },
      "source": [
        "```\n",
        "4. You will be given an array of numbers. You have to sort the odd numbers in ascending order while leaving the even numbers at their original positions.\n",
        "\n",
        "Example:\n",
        "\n",
        "[7, 1] => [1, 7]\n",
        "\n",
        "[5, 8, 6, 3, 4] => [3, 8, 6, 5, 4]\n",
        "\n",
        "[9, 8, 7, 6, 5, 4, 3, 2, 1, 0] => [1, 8, 3, 6, 5, 4, 7, 2, 9, 0]\n",
        "\n",
        "```\n"
      ]
    },
    {
      "cell_type": "code",
      "metadata": {
        "id": "cL4ywnsFSVGt",
        "colab": {
          "base_uri": "https://localhost:8080/"
        },
        "outputId": "644f6b7f-d2f6-4051-a579-55a8a5c41280"
      },
      "source": [
        "nums_list = [9, 8, 7, 6, 5, 4, 3, 2, 1, 0]\n",
        "odds = list(sorted((filter((lambda x : x % 2 != 0), nums_list))))\n",
        "new_list = []\n",
        "count = 0\n",
        "\n",
        "for i in nums_list: \n",
        "  if i in odds:\n",
        "    new_list.append(odds[count])\n",
        "    count += 1\n",
        "  else:\n",
        "    new_list.append(i)\n",
        "\n",
        "print(new_list)"
      ],
      "execution_count": null,
      "outputs": [
        {
          "output_type": "stream",
          "text": [
            "[1, 8, 3, 6, 5, 4, 7, 2, 9, 0]\n"
          ],
          "name": "stdout"
        }
      ]
    },
    {
      "cell_type": "markdown",
      "metadata": {
        "id": "pJUfX-07SY0h"
      },
      "source": [
        "```\n",
        "5- Ornek olarak verilen stringin her bir karakteri sirasiyla buyuk harf haline gelecek ve sonuc bir liste seklinde olacak. Ornek 1:\n",
        "\n",
        "test = ‘iki kelime’\n",
        "\n",
        "sonuc = ['Iki kelime', 'iKi kelime', 'ikI kelime', 'iki Kelime', 'iki kElime', 'iki keLime', 'iki kelIme', 'iki keliMe', 'iki kelimE']\n",
        "```\n",
        "\n"
      ]
    },
    {
      "cell_type": "code",
      "metadata": {
        "colab": {
          "base_uri": "https://localhost:8080/"
        },
        "id": "eGppEtrYHQ9s",
        "outputId": "f18cb477-e328-4b56-82d0-b1b79ea4ac77"
      },
      "source": [
        "string = \"two words\"\n",
        "liste = []\n",
        "\n",
        "for i in range(len(string)):\n",
        "  if string[i].isalpha():\n",
        "    string2 = string[:i] + string[i].upper() + string[i+1:]\n",
        "    liste.append(string2)\n",
        "  \n",
        "print(liste)"
      ],
      "execution_count": null,
      "outputs": [
        {
          "output_type": "stream",
          "text": [
            "['Two words', 'tWo words', 'twO words', 'two Words', 'two wOrds', 'two woRds', 'two worDs', 'two wordS']\n"
          ],
          "name": "stdout"
        }
      ]
    },
    {
      "cell_type": "markdown",
      "metadata": {
        "id": "_t_wBbYtKhYW"
      },
      "source": [
        "6. ```\n",
        "morse_codes = {\n",
        "  'A': '.-', 'B': '-...', 'C': '-.-.', 'D': '-..', 'E': '.', 'F': '..-.',\n",
        "  'G': '--.', 'H': '....', 'I': '..', 'J': '.---', 'K': '-.-', 'L': '.-..',\n",
        "  'M': '--', 'N': '-.', 'O': '---', 'P': '.--.', 'Q': '--.-', 'R': '.-.',\n",
        "  'S': '...', 'T': '-', 'U': '..-', 'V': '...-', 'W': '.--', 'X': '-..-',\n",
        "  'Y': '-.--', 'Z': '--..', ' ': ' ', '0': '-----',\n",
        "  '1': '.----', '2': '..---', '3': '...--', '4': '....-', '5': '.....',\n",
        "  '6': '-....', '7': '--...', '8': '---..', '9': '----.',\n",
        "  '&': '.-...', \"'\": '.----.', '@': '.--.-.', ')': '-.--.-', '(': '-.--.',\n",
        "  ':': '---...', ',': '--..--', '=': '-...-', '!': '-.-.--', '.': '.-.-.-',\n",
        "  '-': '-....-', '+': '.-.-.', '\"': '.-..-.', '?': '..--..', '/': '-..-.'\n",
        "}\n",
        "\n",
        "```\n",
        "Arasında boşluk bırakılarak girilen morse kodunu ifadeye, ifadeyi morsea çeviren kod yazalım."
      ]
    },
    {
      "cell_type": "code",
      "metadata": {
        "id": "l0qafjHQMP_9",
        "colab": {
          "base_uri": "https://localhost:8080/"
        },
        "outputId": "771a2ea5-1486-46e6-fe5e-1c1a8ec121b1"
      },
      "source": [
        "morse_codes = {\n",
        "'A': '.-', 'B': '-...', 'C': '-.-.', 'D': '-..', 'E': '.', 'F': '..-.',\n",
        "'G': '--.', 'H': '....', 'I': '..', 'J': '.---', 'K': '-.-', 'L': '.-..',\n",
        "'M': '--', 'N': '-.', 'O': '---', 'P': '.--.', 'Q': '--.-', 'R': '.-.',\n",
        "'S': '...', 'T': '-', 'U': '..-', 'V': '...-', 'W': '.--', 'X': '-..-',\n",
        "'Y': '-.--', 'Z': '--..', ' ': ' ', '0': '-----',\n",
        "'1': '.----', '2': '..---', '3': '...--', '4': '....-', '5': '.....',\n",
        "'6': '-....', '7': '--...', '8': '---..', '9': '----.',\n",
        "'&': '.-...', \"'\": '.----.', '@': '.--.-.', ')': '-.--.-', '(': '-.--.',\n",
        "':': '---...', ',': '--..--', '=': '-...-', '!': '-.-.--', '.': '.-.-.-',\n",
        "'-': '-....-', '+': '.-.-.', '\"': '.-..-.', '?': '..--..', '/': '-..-.'\n",
        "}\n",
        "\n",
        "def conversion(text):\n",
        "\n",
        "  letters = list(morse_codes.keys())\n",
        "  morse = list(morse_codes.values())\n",
        "  string = \"\"\n",
        "\n",
        "  for char in text.split():\n",
        "    if char in morse:                               \n",
        "      string += letters[morse.index(char)] + \" \"\n",
        "\n",
        "    else:\n",
        "      string += morse[letters.index(char)] + \" \"\n",
        "\n",
        "  return string.strip()\n",
        "\n",
        "print(conversion(\".- .-.. - .- -.--\"))\n",
        "print(conversion(\"A L T A Y\"))"
      ],
      "execution_count": 90,
      "outputs": [
        {
          "output_type": "stream",
          "text": [
            "A L T A Y\n",
            ".- .-.. - .- -.--\n"
          ],
          "name": "stdout"
        }
      ]
    },
    {
      "cell_type": "markdown",
      "metadata": {
        "id": "zJz-aS4DM9Sl"
      },
      "source": [
        "```\n",
        "7- Once upon a time, on a way through the old wild mountainous west,…\n",
        "… a man was given directions to go from one point to another. The directions were \"NORTH\", \"SOUTH\", \"WEST\", \"EAST\". Clearly \"NORTH\" and \"SOUTH\" are opposite, \"WEST\" and \"EAST\" too.\n",
        "\n",
        "Going to one direction and coming back the opposite direction right away is a needless effort. Since this is the wild west, with dreadfull weather and not much water, it's important to save yourself some energy, otherwise you might die of thirst!\n",
        "\n",
        "How I crossed a mountainous desert the smart way.\n",
        "The directions given to the man are, for example, the following (depending on the language):\n",
        "\n",
        "[\"NORTH\", \"SOUTH\", \"SOUTH\", \"EAST\", \"WEST\", \"NORTH\", \"WEST\"].\n",
        "or\n",
        "{ \"NORTH\", \"SOUTH\", \"SOUTH\", \"EAST\", \"WEST\", \"NORTH\", \"WEST\" };\n",
        "or\n",
        "[North, South, South, East, West, North, West]\n",
        "You can immediatly see that going \"NORTH\" and immediately \"SOUTH\" is not reasonable, better stay to the same place! So the task is to give to the man a simplified version of the plan. A better plan in this case is simply:\n",
        "\n",
        "[\"WEST\"]\n",
        "or\n",
        "{ \"WEST\" }\n",
        "or\n",
        "[West]\n",
        "Other examples:\n",
        "In [\"NORTH\", \"SOUTH\", \"EAST\", \"WEST\"], the direction \"NORTH\" + \"SOUTH\" is going north and coming back right away.\n",
        "\n",
        "The path becomes [\"EAST\", \"WEST\"], now \"EAST\" and \"WEST\" annihilate each other, therefore, the final result is [] (nil in Clojure).\n",
        "\n",
        "In [\"NORTH\", \"EAST\", \"WEST\", \"SOUTH\", \"WEST\", \"WEST\"], \"NORTH\" and \"SOUTH\" are not directly opposite but they become directly opposite after the reduction of \"EAST\" and \"WEST\" so the whole path is reducible to [\"WEST\", \"WEST\"].\n",
        "\n",
        "Task\n",
        "Write a function dirReduc which will take an array of strings and returns an array of strings with the needless directions removed (W<->E or S<->N side by side).\n",
        "\n",
        "The Haskell version takes a list of directions with data Direction = North | East | West | South.\n",
        "The Clojure version returns nil when the path is reduced to nothing.\n",
        "The Rust version takes a slice of enum Direction {North, East, West, South}.\n",
        "See more examples in \"Sample Tests:\"\n",
        "Notes\n",
        "Not all paths can be made simpler. The path [\"NORTH\", \"WEST\", \"SOUTH\", \"EAST\"] is not reducible. \"NORTH\" and \"WEST\", \"WEST\" and \"SOUTH\", \"SOUTH\" and \"EAST\" are not directly opposite of each other and can't become such. Hence the result path is itself : [\"NORTH\", \"WEST\", \"SOUTH\", \"EAST\"].\n",
        "```\n",
        "\n",
        "\n"
      ]
    },
    {
      "cell_type": "code",
      "metadata": {
        "colab": {
          "base_uri": "https://localhost:8080/"
        },
        "id": "29NNB7GJog9N",
        "outputId": "3e92e238-9f25-4c87-c837-0408d5727954"
      },
      "source": [
        "def dirReduc(route):\n",
        "    while \"NS\" in route or \"SN\" in route or \"WE\" in route or \"EW\" in route:\n",
        "        route = route.replace(\"NS\",\"\").replace(\"SN\",\"\").replace(\"WE\",\"\").replace(\"EW\",\"\")\n",
        "    if route == \"\":\n",
        "        return []\n",
        "    else:\n",
        "        return route\n",
        "\n",
        "print(dirReduc(\"NWESNWENNS\"))\n"
      ],
      "execution_count": 93,
      "outputs": [
        {
          "output_type": "stream",
          "text": [
            "NN\n"
          ],
          "name": "stdout"
        }
      ]
    },
    {
      "cell_type": "code",
      "metadata": {
        "id": "lXtQmoMgQjGO",
        "colab": {
          "base_uri": "https://localhost:8080/"
        },
        "outputId": "0a94680e-1265-420e-ef54-da29a09f08dc"
      },
      "source": [
        "def dirReduc(route):\n",
        "  direction1 = [\"SOUTH\", \"NORTH\"]\n",
        "  direction2 = [\"WEST\", \"EAST\"]\n",
        "  direction3 = []\n",
        "\n",
        "  for dir in route:\n",
        "    if (dir in direction1 or dir in direction2) and len(direction3) == 0:\n",
        "      direction3.append(dir)\n",
        "    elif dir in direction1 and direction3[-1] in direction1 and direction3[-1] != dir:\n",
        "      direction3.pop()\n",
        "    elif dir in direction2 and direction3[-1] in direction2 and direction3[-1] != dir:\n",
        "      direction3.pop()\n",
        "    else:\n",
        "      direction3.append(dir)\n",
        "    \n",
        "  return (direction3)\n",
        "\n",
        "dirReduc([\"NORTH\", \"EAST\", \"WEST\", \"SOUTH\", \"WEST\", \"WEST\"])"
      ],
      "execution_count": 45,
      "outputs": [
        {
          "output_type": "execute_result",
          "data": {
            "text/plain": [
              "['WEST', 'WEST']"
            ]
          },
          "metadata": {},
          "execution_count": 45
        }
      ]
    }
  ]
}