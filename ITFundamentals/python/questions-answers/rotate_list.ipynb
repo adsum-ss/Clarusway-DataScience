{
  "nbformat": 4,
  "nbformat_minor": 0,
  "metadata": {
    "colab": {
      "name": "rotate_list.ipynb",
      "provenance": []
    },
    "kernelspec": {
      "name": "python3",
      "display_name": "Python 3"
    },
    "language_info": {
      "name": "python"
    }
  },
  "cells": [
    {
      "cell_type": "code",
      "metadata": {
        "colab": {
          "base_uri": "https://localhost:8080/"
        },
        "id": "LdG1T5Bv1zeH",
        "outputId": "d52a46d8-1895-4bfa-9013-7b545186b526"
      },
      "source": [
        "#  Given an N by N matrix, rotate it by 90 degrees clockwise. For example, given the following matrix:\n",
        "#  [[1, 2, 3],\n",
        "#  [4, 5, 6],\n",
        "#  [7, 8, 9]]\n",
        "#  You should return:\n",
        "#  [[7, 4, 1],\n",
        "#  [8, 5, 2],\n",
        "#  [9, 6, 3]]\n",
        "\n",
        "liste = [[1, 2, 3], [4, 5, 6], [7, 8, 9]]\n",
        "liste1 = liste[::-1]\n",
        "liste2 = []\n",
        "\n",
        "for i in range(len(liste)):\n",
        "  liste2.append([])\n",
        "  for x in range(0, len(liste)):\n",
        "    liste2[i].append(liste1[x][i])\n",
        "\n",
        "print(liste2)"
      ],
      "execution_count": 35,
      "outputs": [
        {
          "output_type": "stream",
          "text": [
            "[[7, 4, 1], [8, 5, 2], [9, 6, 3]]\n"
          ],
          "name": "stdout"
        }
      ]
    }
  ]
}