{
  "nbformat": 4,
  "nbformat_minor": 0,
  "metadata": {
    "colab": {
      "name": "alphabet_war.ipynb",
      "provenance": [],
      "collapsed_sections": []
    },
    "kernelspec": {
      "name": "python3",
      "display_name": "Python 3"
    },
    "language_info": {
      "name": "python"
    }
  },
  "cells": [
    {
      "cell_type": "code",
      "metadata": {
        "id": "ltIRTD7REBdy"
      },
      "source": [
        "#  There is a war and nobody knows - the alphabet war!\n",
        "#  The letters hide in their nuclear shelters. The nuclear strikes hit the battlefield and killed a lot of them.\n",
        "\n",
        "#  Task\n",
        "#  Write a function that accepts battlefield string and returns letters that survived the nuclear strike.\n",
        "#  The battlefield string consists of only small letters, #,[ and ].\n",
        "#  The nuclear shelter is represented by square brackets []. The letters inside the square brackets represent letters inside the shelter.\n",
        "#  The \"#\" means a place where nuclear strike hit the battlefield. If there is at least one \"#\" on the battlefield, all letters outside of shelter die. \n",
        "#  When there is no any \"#\" on the battlefield, all letters survive (but do not expect such scenario too often ;-P ).\n",
        "#  The shelters have some durability. When 2 or more \"#\" hit close to the shelter, the shelter is destroyed and all letters inside evaporate. \n",
        "#  The 'close to the shelter' means on the ground between the shelter and the next shelter (or beginning/end of battlefield). The below samples make it clear for you.\n",
        "\n",
        "#  Example\n",
        "\n",
        "#  abde[fgh]ijk     => \"abdefghijk\"  (all letters survive because there is no # )\n",
        "#  ab#de[fgh]ijk    => \"fgh\" (all letters outside die because there is a # )\n",
        "#  ab#de[fgh]ij#k   => \"\"  (all letters dies, there are 2 # close to the shellter )\n",
        "#  ##abde[fgh]ijk   => \"\"  (all letters dies, there are 2 # close to the shellter )\n",
        "#  ##abde[fgh]ijk[mn]op => \"mn\" (letters from the second shelter survive, there is no # close)\n",
        "#  #ab#de[fgh]ijk[mn]op => \"mn\" (letters from the second shelter survive, there is no # close)\n",
        "#  #abde[fgh]i#jk[mn]op => \"mn\" (letters from the second shelter survive, there is only 1 # close)\n",
        "#  [a]#[b]#[c]  => \"ac\"\n",
        "#  [a]#b#[c][d] => \"d\"\n",
        "#  [a][b][c]    => \"abc\"\n",
        "#  ##a[a]b[c]#  => \"c\""
      ],
      "execution_count": null,
      "outputs": []
    },
    {
      "cell_type": "code",
      "metadata": {
        "colab": {
          "base_uri": "https://localhost:8080/",
          "height": 35
        },
        "id": "5KSacbUVqXLk",
        "outputId": "8eaebc1f-e1a9-4193-a44f-11b894b3b102"
      },
      "source": [
        "def alphabet_war(battlefield):\n",
        "\n",
        "    if '#' not in battlefield:\n",
        "        return battlefield.replace('[', '').replace(']', '')\n",
        "\n",
        "    sectors = [sep for bunker in battlefield.split('[') for sep in bunker.split(']')]\n",
        "    fields = sectors[0::2]\n",
        "    bunkers = sectors[1::2]\n",
        "    \n",
        "    return ''.join(b for i, b in enumerate(bunkers) if ''.join(fields[i:i+2]).count('#') < 2)\n",
        "\n",
        "alphabet_war(\"[a]#b#[c][d]bh#\")"
      ],
      "execution_count": 1,
      "outputs": [
        {
          "output_type": "execute_result",
          "data": {
            "application/vnd.google.colaboratory.intrinsic+json": {
              "type": "string"
            },
            "text/plain": [
              "'d'"
            ]
          },
          "metadata": {},
          "execution_count": 1
        }
      ]
    },
    {
      "cell_type": "code",
      "metadata": {
        "colab": {
          "base_uri": "https://localhost:8080/",
          "height": 35
        },
        "id": "Q8thDxKVxSkg",
        "outputId": "bb923a55-5ea9-4f06-9dcf-9aaf71c9c1b6"
      },
      "source": [
        "def b_field(string):\n",
        "\n",
        "    liste, liste1, liste2 = [], [], []\n",
        "    total = 0\n",
        "    str_1 = \"\"\n",
        "    str_2 = \"\"\n",
        "\n",
        "    if \"#\" not in string: \n",
        "      return string.replace(\"[\", \"\").replace(\"]\", \"\")\n",
        "    elif \"#\" in string and (\"[\" or \"]\") not in string: return str_2;\n",
        "\n",
        "    for i in string:\n",
        "        if i == \"#\": str_1 += i;\n",
        "        elif i == \"[\": str_1 += \"0\";\n",
        "\n",
        "    for i in range(len(string)):\n",
        "        if string[i] == \"[\": liste += [i];      \n",
        "        elif string[i] == \"]\": liste1 += [i];\n",
        "\n",
        "    for i, k in zip(liste, liste1):\n",
        "        liste2 += [string[i+1:k]]\n",
        "        \n",
        "    for i in range(len(str_1)):\n",
        "        if str_1[i] == \"#\": \n",
        "          total += 1\n",
        "        else:\n",
        "          if total == 0:\n",
        "              if str_1[i+1:].startswith(\"#\") and str_1[i+2:].startswith(\"#\"):\n",
        "                  liste2.pop(0)\n",
        "              else:\n",
        "                str_2 += str(liste2[0])\n",
        "                liste2.pop(0) \n",
        "\n",
        "          elif total == 1:\n",
        "              if str_1[i+1:].startswith(\"#\"):\n",
        "                  liste2.pop(0)\n",
        "                  total = 0\n",
        "              else:\n",
        "                  str_2 += str(liste2[0])\n",
        "                  liste2.pop(0)\n",
        "                  total = 0\n",
        "\n",
        "          elif total >= 2:\n",
        "              liste2.pop(0)\n",
        "              total = 0\n",
        "          else:\n",
        "              str_2 += str(liste2[0])\n",
        "              liste2.pop(0)\n",
        "\n",
        "    return str_2\n",
        "\n",
        "b_field(\"[a]#b#[c][d]bh#\")"
      ],
      "execution_count": 2,
      "outputs": [
        {
          "output_type": "execute_result",
          "data": {
            "application/vnd.google.colaboratory.intrinsic+json": {
              "type": "string"
            },
            "text/plain": [
              "'d'"
            ]
          },
          "metadata": {},
          "execution_count": 2
        }
      ]
    }
  ]
}