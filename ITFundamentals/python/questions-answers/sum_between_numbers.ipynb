{
  "nbformat": 4,
  "nbformat_minor": 0,
  "metadata": {
    "colab": {
      "name": "sum_between_numbers.ipynb",
      "provenance": [],
      "collapsed_sections": []
    },
    "kernelspec": {
      "name": "python3",
      "display_name": "Python 3"
    },
    "language_info": {
      "name": "python"
    }
  },
  "cells": [
    {
      "cell_type": "code",
      "metadata": {
        "colab": {
          "base_uri": "https://localhost:8080/"
        },
        "id": "B4dOCzxJKSt4",
        "outputId": "a9223b3b-f4f7-4703-d26e-589f9ac87c9b"
      },
      "source": [
        "# write a function that takes two numbers from the user and \n",
        "# prints the sum of the numbers between them \n",
        "# (the numbers received will not be included in the total) \n",
        "\n",
        "def sum_numbers(num_1, num_2):\n",
        "  \n",
        "  num_1 = int(input(\"Enter the first number: \"))\n",
        "  num_2 = int(input(\"Enter the second number: \"))\n",
        "\n",
        "  total = 0\n",
        "  numbers = num_1, num_2\n",
        "\n",
        "  for i in range(min(numbers)+1, max(numbers)):\n",
        "    total += i\n",
        "\n",
        "  return total\n",
        "\n",
        "sum_numbers(num_1, num_2)"
      ],
      "execution_count": null,
      "outputs": [
        {
          "output_type": "stream",
          "text": [
            "Enter the first number: 25\n",
            "Enter the second number: 12\n"
          ],
          "name": "stdout"
        },
        {
          "output_type": "execute_result",
          "data": {
            "text/plain": [
              "222"
            ]
          },
          "metadata": {
            "tags": []
          },
          "execution_count": 13
        }
      ]
    },
    {
      "cell_type": "code",
      "metadata": {
        "colab": {
          "base_uri": "https://localhost:8080/"
        },
        "id": "VH1X5zhlBj6G",
        "outputId": "a8ba2317-d6f8-4bcf-c0bf-8708f0f8bdcd"
      },
      "source": [
        "def summ1(a,b):\n",
        "  return sum([* range(a+1, b)])\n",
        "num1 = int(input(\"first num: \"))\n",
        "num2 = int(input(\"second num: \"))\n",
        "summ1(num1,num2)"
      ],
      "execution_count": 1,
      "outputs": [
        {
          "output_type": "stream",
          "text": [
            "first num: 18\n",
            "second num: 23\n"
          ],
          "name": "stdout"
        },
        {
          "output_type": "execute_result",
          "data": {
            "text/plain": [
              "82"
            ]
          },
          "metadata": {
            "tags": []
          },
          "execution_count": 1
        }
      ]
    }
  ]
}